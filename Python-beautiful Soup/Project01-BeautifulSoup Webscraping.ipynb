{
 "cells": [
  {
   "cell_type": "markdown",
   "metadata": {},
   "source": [
    "# What is Web Scraping\n",
    "\n",
    "\n",
    "Web scraping is extracting useful data from the internet. Of course, users are able and allowed to copy and paste the data by themselves however it will be not feasible to do it for large websites with hundreds of pages.\n",
    "\n",
    "This is where web scraping comes into play.\n",
    "\n",
    "Web Scraping is a method of extracting unstructured data from HTML format from the website and transform it into useful and meaningful data for more in-depth analysis and making different business decisions.\n",
    "\n",
    "### Advantages of using Web Scraping\n",
    "\n",
    "Marketing research\n",
    "\n",
    " - Gather all the data that the user needed and transfer into meaningful data, thus users can make predictions based on the data\n",
    " \n",
    " \n",
    "   -  For example which video game is the most popular in 2019\n",
    "   \n",
    "More Accuracy and Live Data\n",
    "\n",
    "- It extracts live data from the website as long as the website keeps updating\n",
    "\n",
    "Competitive\n",
    "\n",
    "- User can also easily extract competitor products price on the official automatically, thus to think of different market strategies to contend the competition\n",
    "\n",
    "\n",
    "### Beautiful Soup\n",
    "\n",
    "'BeautifulSoup', a powerful library for Python that enables us to automate information retrieval from a web page\n",
    "\n",
    "Before using beautifulsoup, remember to install all the required libraries\n",
    "\n",
    "This is the link more information on beautifulsoup functions:\n",
    "\n",
    "https://www.crummy.com/software/BeautifulSoup/bs4/doc/\n",
    "\n",
    "In this jupyter workbook, will mainly use soup.find and soup.findAll\n",
    "\n",
    "####  Soup.find:\n",
    "\n",
    "soup.find('p') ;  Return the text in between first pair of tags e.g. text between the first P\n",
    "\n",
    "####  Soup.findAll:\n",
    "\n",
    "soup.find_all('p') Return the text in between every pair of tags e.g. text between all the P\n",
    "\n",
    "\n",
    "### HTML\n",
    "\n",
    "Since its webscraping, we’re interested in the main content of the web page, so we look at the HTML.\n",
    "A simple HTML document example:"
   ]
  },
  {
   "cell_type": "markdown",
   "metadata": {},
   "source": [
    "#<html>\n",
    "#<head>\n",
    "#<title>Page Title</title>\n",
    "#</head>\n",
    "#<body><h1>My First Heading</h1>\n",
    "#<p>My first paragraph.</p>\n",
    "\n",
    "#</body>\n",
    "#</html>"
   ]
  },
  {
   "cell_type": "code",
   "execution_count": 1,
   "metadata": {},
   "outputs": [],
   "source": [
    "from bs4 import BeautifulSoup"
   ]
  },
  {
   "cell_type": "markdown",
   "metadata": {},
   "source": [
    "If we wanted to run BeatifulSoup on an actual web page, we could simply call the 'requests' library to load down the raw text of that page. Here we specify a basic method for pulling down HTML from a real web page, by specifying its URL:"
   ]
  },
  {
   "cell_type": "code",
   "execution_count": 2,
   "metadata": {},
   "outputs": [],
   "source": [
    "import urllib.request\n",
    "\n",
    "def get_HTML(url):\n",
    "    response = urllib.request.urlopen(url)\n",
    "    html = response.read()\n",
    "    return html"
   ]
  },
  {
   "cell_type": "markdown",
   "metadata": {},
   "source": [
    "#### Find the Largest city in Australia from the box on the right"
   ]
  },
  {
   "cell_type": "markdown",
   "metadata": {},
   "source": [
    "<b>For this code,\n",
    "\n",
    "We need to use the inspect element to see which element we need to extract. Right Click anywhere on the website and click inspect element\n",
    "\n",
    "</b>\n",
    "<img src=\"files/inspectelement.png\" style=\"width: 800px;\">\n",
    "\n",
    "<b>This code is finding the text largest city and findnext a element and print it out which is sydney</b>\n",
    "\n",
    "<img src=\"files/sydneywikiexample.png\" style=\"width: 800px;\">"
   ]
  },
  {
   "cell_type": "markdown",
   "metadata": {},
   "source": [
    "<b>Defining the html"
   ]
  },
  {
   "cell_type": "code",
   "execution_count": 3,
   "metadata": {},
   "outputs": [],
   "source": [
    "Australia_Wiki_HTML = get_HTML('https://en.wikipedia.org/wiki/Australia')"
   ]
  },
  {
   "cell_type": "markdown",
   "metadata": {},
   "source": [
    "<b>Find the element that contains text Largest City and find the next element('a') and extract its information.\n",
    "\n",
    "</n>Beacuse we are using findnext, so it will only extract the information from the next 'a' element but not from all 'a' element\n",
    "    "
   ]
  },
  {
   "cell_type": "code",
   "execution_count": 4,
   "metadata": {},
   "outputs": [
    {
     "name": "stdout",
     "output_type": "stream",
     "text": [
      "<a href=\"/wiki/Sydney\" title=\"Sydney\">Sydney</a>\n"
     ]
    }
   ],
   "source": [
    "def get_the_capital(HTML):\n",
    "    soup = BeautifulSoup(HTML, \"lxml\")\n",
    "    th_element = soup.find(text=\"Largest city\")\n",
    "    target_element = th_element.findNext('a')\n",
    "    print(target_element)\n",
    "\n",
    "get_the_capital(Australia_Wiki_HTML)"
   ]
  },
  {
   "cell_type": "markdown",
   "metadata": {},
   "source": [
    "## Quick Example Umbrella Company in Australia - Marketing decisions (Webscraping+CSV)\n",
    "\n",
    "So in this exercise, we will be combining information from the website, excel CSV files and creating useful readable information to make marketing decisions.\n",
    "\n",
    "###  Where to launch \n",
    "#### Web-scraping ( Australia Government BoM ), Visualization (Bar chart)\n",
    "\n",
    "Since Australia is a big country with many cities, it is hard for a company to produce that much of quantities and sell it across Australia. If the company does, it will lead to a serious increase in production cost and dead inventories, thus to affect the plan of the company its development speed. By knowing which cities had the most precipitation annually, the company can focus on launching a new umbrella to the specific country, to prevent deadlocks and over-budgeted production cost."
   ]
  },
  {
   "cell_type": "code",
   "execution_count": null,
   "metadata": {},
   "outputs": [],
   "source": [
    "#Please install in the terminal\n",
    "pip install bs4"
   ]
  },
  {
   "cell_type": "code",
   "execution_count": 3,
   "metadata": {},
   "outputs": [],
   "source": [
    "from bs4 import BeautifulSoup"
   ]
  },
  {
   "cell_type": "code",
   "execution_count": 4,
   "metadata": {},
   "outputs": [],
   "source": [
    "#import library\n",
    "import urllib.request\n",
    "\n",
    "#define get html source coding\n",
    "def get_HTML(url):\n",
    "    response = urllib.request.urlopen(url)\n",
    "    html = response.read()\n",
    "    return html"
   ]
  },
  {
   "cell_type": "markdown",
   "metadata": {},
   "source": [
    "#### The code below extracts the city's name and its annual rainfall\n",
    "\n",
    "Find the text 'seasonal' and find the table after text 'seasonal'\n",
    "\n",
    "<b>Table After Seasonal</b>\n",
    "<img src=\"files/rainfalltable.png\" style=\"width: 800px;\">\n",
    "\n",
    "As you can see the table is huge and we only want to extract the annual rainfall and the name of a city, so we need to extract the 'td'element in all'tr'element within the seasonal table, because we are finding the 'td' in 'tr', so there will be some useless data so we need to do a filter at the end.\n",
    "\n",
    "\n",
    "<b>Results Without Filtering</b>\n",
    "<img src=\"files/uselessdatacityname.png\" style=\"width: 800px;\">\n",
    "\n",
    "<b>Inspect The Element</b>\n",
    "<img src=\"files/cityelement.png\" style=\"width: 800px;\">\n",
    "\n",
    "Below code will be extracting the city name:\n",
    "\n",
    "\n"
   ]
  },
  {
   "cell_type": "code",
   "execution_count": 5,
   "metadata": {},
   "outputs": [
    {
     "data": {
      "text/plain": [
       "['Sydney',\n",
       " 'Melbourne',\n",
       " 'Brisbane',\n",
       " 'Adelaide',\n",
       " 'Perth',\n",
       " 'Hobart',\n",
       " 'Darwin',\n",
       " 'Canberra',\n",
       " 'Alice Springs']"
      ]
     },
     "execution_count": 5,
     "metadata": {},
     "output_type": "execute_result"
    }
   ],
   "source": [
    "#taking out useful eliminate from a website by using inspect elements\n",
    "cities_in_australia = []\n",
    "\n",
    "#taking out selected cities from different elements\n",
    "#link data is extracted from Australia Bureau of Statistics from government\n",
    "#Cities is mainly focus on famous cities in Australia\n",
    "states_bom_HTML = get_HTML(\"http://www.abs.gov.au/ausstats/abs@.nsf/Lookup/by%20Subject/1301.0~2012~Main%20Features~Australia's%20climate~143\")\n",
    "soup = BeautifulSoup(states_bom_HTML, \"lxml\")\n",
    "span_element = soup.find(text=\"Seasonal\")\n",
    "h3_element = span_element.parent\n",
    "table_element = h3_element.findNext('table')\n",
    "for tr_element in table_element.findAll('tr'):\n",
    "    td_element = tr_element.find('td')\n",
    "    if td_element != None:\n",
    "        cities_in_australia.append(td_element.text)\n",
    "\n",
    "# eliminate useless data and print out selected cities\n",
    "cities_in_australia = cities_in_australia[27:36]\n",
    "cities_in_australia"
   ]
  },
  {
   "cell_type": "markdown",
   "metadata": {},
   "source": [
    "#### The code below is doing the same thing as extract the name of a city\n",
    "\n",
    "however this time it is extracting div element in 'td'elements and does filtering\n",
    "\n",
    "\n",
    "\n",
    "<b>Inspect The Element</b>\n",
    "<img src=\"files/rainfallelement.png\" style=\"width: 800px;\">\n",
    "\n",
    "<b>Results Without Filtering</b>\n",
    "<img src=\"files/rainfallmms.png\" style=\"width: 100px;\">\n",
    "\n",
    "Output results more than 250 records\n"
   ]
  },
  {
   "cell_type": "code",
   "execution_count": 6,
   "metadata": {},
   "outputs": [
    {
     "data": {
      "text/plain": [
       "('1276.5',\n",
       " '654.4',\n",
       " '1194.0',\n",
       " '563.0',\n",
       " '745.3',\n",
       " '576.4',\n",
       " '1847.1',\n",
       " '630.0',\n",
       " '325.6')"
      ]
     },
     "execution_count": 6,
     "metadata": {},
     "output_type": "execute_result"
    }
   ],
   "source": [
    "#taking out useful eliminate from a website by using inspect elements\n",
    "a_rainfall = []\n",
    "\n",
    "#taking out selected cities from different elements\n",
    "#link data is extracted from Australia Bureau of Statistics from government\n",
    "#Cities is mainly focus on famous cities in Australia\n",
    "states_bom_HTML = get_HTML(\"http://www.abs.gov.au/ausstats/abs@.nsf/Lookup/by%20Subject/1301.0~2012~Main%20Features~Australia's%20climate~143\")\n",
    "soup = BeautifulSoup(states_bom_HTML, \"lxml\")\n",
    "span_element = soup.find(text=\"Seasonal\")\n",
    "h3_element = span_element.parent\n",
    "table_element = h3_element.findNext('table')\n",
    "for td_element in table_element.findAll('td'):\n",
    "    div_element = td_element.find('div'[-0:])\n",
    "    if div_element != None:\n",
    "        a_rainfall.append(div_element.text)\n",
    "        \n",
    "# eliminate useless data and spaces between the data because there are more than 500 data inside the list\n",
    "# print out selected data for sepcific cities for the above cities\n",
    "# removing all the spacing between a thousand and hunderd place in order to change from str to float afterwards\n",
    "a_rainfall = a_rainfall[263].replace(\" \", \"\"),a_rainfall[276].replace(\" \", \"\"),a_rainfall[289].replace(\" \", \"\"),a_rainfall[302].replace(\" \", \"\"),a_rainfall[315].replace(\" \", \"\"),a_rainfall[328].replace(\" \", \"\"),a_rainfall[341].replace(\" \", \"\"),a_rainfall[354].replace(\" \", \"\"),a_rainfall[367].replace(\" \", \"\")\n",
    "a_rainfall"
   ]
  },
  {
   "cell_type": "markdown",
   "metadata": {},
   "source": [
    "<b>Combining two sets of data and make it as readable information"
   ]
  },
  {
   "cell_type": "markdown",
   "metadata": {},
   "source": [
    "This part is combining the data extract from the above and transfer it into readable information and set up a new list to output for chart afterward"
   ]
  },
  {
   "cell_type": "code",
   "execution_count": 7,
   "metadata": {},
   "outputs": [
    {
     "name": "stdout",
     "output_type": "stream",
     "text": [
      "Cities: Sydney\n",
      "Annual avergae rainfall(mm): 1276.5\n",
      "\n",
      "\n",
      "Cities: Melbourne\n",
      "Annual avergae rainfall(mm): 654.4\n",
      "\n",
      "\n",
      "Cities: Brisbane\n",
      "Annual avergae rainfall(mm): 1194.0\n",
      "\n",
      "\n",
      "Cities: Adelaide\n",
      "Annual avergae rainfall(mm): 563.0\n",
      "\n",
      "\n",
      "Cities: Perth\n",
      "Annual avergae rainfall(mm): 745.3\n",
      "\n",
      "\n",
      "Cities: Hobart\n",
      "Annual avergae rainfall(mm): 576.4\n",
      "\n",
      "\n",
      "Cities: Darwin\n",
      "Annual avergae rainfall(mm): 1847.1\n",
      "\n",
      "\n",
      "Cities: Canberra\n",
      "Annual avergae rainfall(mm): 630.0\n",
      "\n",
      "\n",
      "Cities: Alice Springs\n",
      "Annual avergae rainfall(mm): 325.6\n",
      "\n",
      "\n"
     ]
    }
   ],
   "source": [
    "# combine the data from the above and combine it into useful readable data\n",
    "# cities + annual avergae rainfall in australia\n",
    "\n",
    "for i in range(0, len(cities_in_australia)):\n",
    "    print(\"Cities: \"+cities_in_australia[i])\n",
    "    print(\"Annual avergae rainfall(mm): \"+ a_rainfall[i])\n",
    "    print('\\n')\n",
    "\n",
    "#set up a new list to store the data for chart\n",
    "cities = cities_in_australia\n",
    "rainfall_mm = a_rainfall"
   ]
  },
  {
   "cell_type": "markdown",
   "metadata": {},
   "source": [
    "#### Visualization with bar chart(readable information)"
   ]
  },
  {
   "cell_type": "markdown",
   "metadata": {},
   "source": [
    "Getting data from the list from the previous step and output it as a chart"
   ]
  },
  {
   "cell_type": "code",
   "execution_count": 9,
   "metadata": {},
   "outputs": [
    {
     "data": {
      "text/plain": [
       "Text(0.5, 1.0, 'Average annual rainfall')"
      ]
     },
     "execution_count": 9,
     "metadata": {},
     "output_type": "execute_result"
    },
    {
     "data": {
      "image/png": "[encoded data removed]",
      "text/plain": [
       "<Figure size 432x288 with 1 Axes>"
      ]
     },
     "metadata": {
      "needs_background": "light"
     },
     "output_type": "display_data"
    }
   ],
   "source": [
    "#Import the plotting library\n",
    "import matplotlib.pyplot as plt\n",
    "import numpy as np\n",
    "\n",
    "#a for loop in order to turn all the str from the list into float and make sure its recognizable for plt\n",
    "rainfall_new = []\n",
    "for rain in rainfall_mm:\n",
    "    rainfall_new.append(float(rain))\n",
    "\n",
    "#Setup the data with different colors and names\n",
    "y = [rainfall_new[0],rainfall_new[1], rainfall_new[2],rainfall_new[3],rainfall_new[4],rainfall_new[5],rainfall_new[6],rainfall_new[7],rainfall_new[8]]\n",
    "x = [cities[0],cities[1], cities[2],cities[3],cities[4], cities[5],cities[6],cities[7],cities[8]]\n",
    "colours = ['red', 'orange', 'yellow', 'green', 'blue', 'purple', 'brown', 'grey', 'black', 'cyan']\n",
    "\n",
    "#Plot the data and rotate the x axis name by 90 degrees\n",
    "plt.bar(x,y, color=colours)\n",
    "plt.xticks(rotation=90)\n",
    "\n",
    "#Lable the chart\n",
    "plt.ylabel('Rainfall (mm)')\n",
    "plt.xlabel('Cities')\n",
    "plt.title('Average annual rainfall')"
   ]
  },
  {
   "cell_type": "markdown",
   "metadata": {},
   "source": [
    "As a result, Darwin had the most precipitation throughout a year, followed by Sydney and Brisbane. The company can first start launching the new umbrella in Darwin, after having a sales report on the new umbrella that sells in Darwin, the business team can analysis is the product earning much while comparing to the company's expectation, is it worth to sell in other cities in order to increase the sales volume and increase company's populations. If the sales volume is not as good as the expectation, the company might need to improve the product or even stop launching it because it is not profitable. If the sales volume reaches the company's expectation, the company can start expanding its product by selling it to Sydney and Brisbane to maximize the sales volume while minimizing the chance of having deadstock.\n"
   ]
  },
  {
   "cell_type": "markdown",
   "metadata": {},
   "source": [
    "## When to launch\n",
    "### Reading and Writing files( Loading data from CSV from BoM ), Visualization ( Tabular, Line chart )\n",
    "\n",
    "After knowing where to launch the new umbrella, it is important to know when to launch the product too because of the first idea and purpose of the umbrella is to prevent and protect consumers getting wet from raining, if the company launches the umbrella at a wrong time, for example, launch it when its the lowest precipitation of Darwin, of course, the sales volume will be low because no one needs it thus to increase deadstock and affect the production line on producing on other products. So analyzing the precipitation annually allows the company to launch the umbrella at the right time, maximizing the sales and minimizing the lost."
   ]
  },
  {
   "cell_type": "markdown",
   "metadata": {},
   "source": [
    "#### Import data CSV which downloaded from BoM and transfer it into readable table"
   ]
  },
  {
   "cell_type": "markdown",
   "metadata": {},
   "source": [
    "In the folder, there are three excel CSV files. In this part, we are going to extract all the data and store it into a list. Because there is too much data in each excel file so we are going to use 2017 for Sydney, Darwin, and Brisbane thus filtering data is needed.\n",
    "\n",
    "Repeat the steps three times for Sydney, Darwin, and Brisbane."
   ]
  },
  {
   "cell_type": "markdown",
   "metadata": {},
   "source": [
    "##### Darwin"
   ]
  },
  {
   "cell_type": "code",
   "execution_count": 11,
   "metadata": {
    "scrolled": true
   },
   "outputs": [
    {
     "data": {
      "text/html": [
       "<div>\n",
       "<style scoped>\n",
       "    .dataframe tbody tr th:only-of-type {\n",
       "        vertical-align: middle;\n",
       "    }\n",
       "\n",
       "    .dataframe tbody tr th {\n",
       "        vertical-align: top;\n",
       "    }\n",
       "\n",
       "    .dataframe thead th {\n",
       "        text-align: right;\n",
       "    }\n",
       "</style>\n",
       "<table border=\"1\" class=\"dataframe\">\n",
       "  <thead>\n",
       "    <tr style=\"text-align: right;\">\n",
       "      <th></th>\n",
       "      <th></th>\n",
       "      <th></th>\n",
       "      <th></th>\n",
       "      <th></th>\n",
       "      <th></th>\n",
       "      <th></th>\n",
       "      <th></th>\n",
       "      <th></th>\n",
       "      <th></th>\n",
       "      <th></th>\n",
       "      <th></th>\n",
       "      <th></th>\n",
       "      <th></th>\n",
       "      <th></th>\n",
       "      <th></th>\n",
       "    </tr>\n",
       "    <tr>\n",
       "      <th>Product code</th>\n",
       "      <th>Station Number</th>\n",
       "      <th>Year</th>\n",
       "      <th>Jan</th>\n",
       "      <th>Feb</th>\n",
       "      <th>Mar</th>\n",
       "      <th>Apr</th>\n",
       "      <th>May</th>\n",
       "      <th>Jun</th>\n",
       "      <th>Jul</th>\n",
       "      <th>Aug</th>\n",
       "      <th>Sep</th>\n",
       "      <th>Oct</th>\n",
       "      <th>Nov</th>\n",
       "      <th>Dec</th>\n",
       "      <th>Annual</th>\n",
       "    </tr>\n",
       "  </thead>\n",
       "  <tbody>\n",
       "    <tr>\n",
       "      <td rowspan=\"16\" valign=\"top\">IDCJAC0001</td>\n",
       "      <td rowspan=\"16\" valign=\"top\">14050</td>\n",
       "      <td>2002</td>\n",
       "      <td>NaN</td>\n",
       "      <td>NaN</td>\n",
       "      <td>NaN</td>\n",
       "      <td>NaN</td>\n",
       "      <td>NaN</td>\n",
       "      <td>NaN</td>\n",
       "      <td>NaN</td>\n",
       "      <td>NaN</td>\n",
       "      <td>NaN</td>\n",
       "      <td>NaN</td>\n",
       "      <td>NaN</td>\n",
       "      <td>138.1</td>\n",
       "      <td>NaN</td>\n",
       "    </tr>\n",
       "    <tr>\n",
       "      <td>2003</td>\n",
       "      <td>497.1</td>\n",
       "      <td>NaN</td>\n",
       "      <td>162.6</td>\n",
       "      <td>1.5</td>\n",
       "      <td>0.0</td>\n",
       "      <td>0.0</td>\n",
       "      <td>0.0</td>\n",
       "      <td>0.0</td>\n",
       "      <td>14.0</td>\n",
       "      <td>57.6</td>\n",
       "      <td>163.5</td>\n",
       "      <td>316.8</td>\n",
       "      <td>NaN</td>\n",
       "    </tr>\n",
       "    <tr>\n",
       "      <td>2004</td>\n",
       "      <td>334.2</td>\n",
       "      <td>NaN</td>\n",
       "      <td>442.2</td>\n",
       "      <td>15.3</td>\n",
       "      <td>76.6</td>\n",
       "      <td>38.0</td>\n",
       "      <td>0.0</td>\n",
       "      <td>0.0</td>\n",
       "      <td>0.0</td>\n",
       "      <td>36.1</td>\n",
       "      <td>46.8</td>\n",
       "      <td>313.6</td>\n",
       "      <td>NaN</td>\n",
       "    </tr>\n",
       "    <tr>\n",
       "      <td>2005</td>\n",
       "      <td>258.7</td>\n",
       "      <td>205.7</td>\n",
       "      <td>169.4</td>\n",
       "      <td>65.8</td>\n",
       "      <td>0.0</td>\n",
       "      <td>0.0</td>\n",
       "      <td>0.0</td>\n",
       "      <td>0.0</td>\n",
       "      <td>23.0</td>\n",
       "      <td>16.0</td>\n",
       "      <td>93.4</td>\n",
       "      <td>187.0</td>\n",
       "      <td>1019.0</td>\n",
       "    </tr>\n",
       "    <tr>\n",
       "      <td>2006</td>\n",
       "      <td>383.5</td>\n",
       "      <td>149.5</td>\n",
       "      <td>560.0</td>\n",
       "      <td>NaN</td>\n",
       "      <td>14.0</td>\n",
       "      <td>0.0</td>\n",
       "      <td>0.0</td>\n",
       "      <td>0.0</td>\n",
       "      <td>6.0</td>\n",
       "      <td>NaN</td>\n",
       "      <td>13.0</td>\n",
       "      <td>309.0</td>\n",
       "      <td>NaN</td>\n",
       "    </tr>\n",
       "    <tr>\n",
       "      <td>2007</td>\n",
       "      <td>370.5</td>\n",
       "      <td>368.0</td>\n",
       "      <td>571.0</td>\n",
       "      <td>NaN</td>\n",
       "      <td>24.5</td>\n",
       "      <td>0.5</td>\n",
       "      <td>NaN</td>\n",
       "      <td>NaN</td>\n",
       "      <td>53.0</td>\n",
       "      <td>46.0</td>\n",
       "      <td>132.5</td>\n",
       "      <td>239.5</td>\n",
       "      <td>NaN</td>\n",
       "    </tr>\n",
       "    <tr>\n",
       "      <td>2008</td>\n",
       "      <td>419.7</td>\n",
       "      <td>NaN</td>\n",
       "      <td>249.5</td>\n",
       "      <td>20.0</td>\n",
       "      <td>NaN</td>\n",
       "      <td>NaN</td>\n",
       "      <td>NaN</td>\n",
       "      <td>NaN</td>\n",
       "      <td>NaN</td>\n",
       "      <td>NaN</td>\n",
       "      <td>NaN</td>\n",
       "      <td>NaN</td>\n",
       "      <td>NaN</td>\n",
       "    </tr>\n",
       "    <tr>\n",
       "      <td>2010</td>\n",
       "      <td>NaN</td>\n",
       "      <td>NaN</td>\n",
       "      <td>NaN</td>\n",
       "      <td>36.7</td>\n",
       "      <td>49.6</td>\n",
       "      <td>NaN</td>\n",
       "      <td>NaN</td>\n",
       "      <td>NaN</td>\n",
       "      <td>NaN</td>\n",
       "      <td>NaN</td>\n",
       "      <td>NaN</td>\n",
       "      <td>NaN</td>\n",
       "      <td>NaN</td>\n",
       "    </tr>\n",
       "    <tr>\n",
       "      <td>2011</td>\n",
       "      <td>625.3</td>\n",
       "      <td>1029.3</td>\n",
       "      <td>147.4</td>\n",
       "      <td>160.8</td>\n",
       "      <td>NaN</td>\n",
       "      <td>NaN</td>\n",
       "      <td>NaN</td>\n",
       "      <td>0.2</td>\n",
       "      <td>4.0</td>\n",
       "      <td>70.0</td>\n",
       "      <td>100.6</td>\n",
       "      <td>116.4</td>\n",
       "      <td>NaN</td>\n",
       "    </tr>\n",
       "    <tr>\n",
       "      <td>2012</td>\n",
       "      <td>579.0</td>\n",
       "      <td>82.8</td>\n",
       "      <td>168.4</td>\n",
       "      <td>64.4</td>\n",
       "      <td>48.0</td>\n",
       "      <td>NaN</td>\n",
       "      <td>NaN</td>\n",
       "      <td>NaN</td>\n",
       "      <td>NaN</td>\n",
       "      <td>NaN</td>\n",
       "      <td>0.0</td>\n",
       "      <td>49.0</td>\n",
       "      <td>NaN</td>\n",
       "    </tr>\n",
       "    <tr>\n",
       "      <td>2013</td>\n",
       "      <td>NaN</td>\n",
       "      <td>39.0</td>\n",
       "      <td>NaN</td>\n",
       "      <td>NaN</td>\n",
       "      <td>NaN</td>\n",
       "      <td>NaN</td>\n",
       "      <td>NaN</td>\n",
       "      <td>NaN</td>\n",
       "      <td>NaN</td>\n",
       "      <td>NaN</td>\n",
       "      <td>NaN</td>\n",
       "      <td>207.0</td>\n",
       "      <td>NaN</td>\n",
       "    </tr>\n",
       "    <tr>\n",
       "      <td>2014</td>\n",
       "      <td>668.0</td>\n",
       "      <td>339.0</td>\n",
       "      <td>86.0</td>\n",
       "      <td>72.5</td>\n",
       "      <td>11.6</td>\n",
       "      <td>NaN</td>\n",
       "      <td>NaN</td>\n",
       "      <td>NaN</td>\n",
       "      <td>NaN</td>\n",
       "      <td>10.0</td>\n",
       "      <td>233.0</td>\n",
       "      <td>152.0</td>\n",
       "      <td>NaN</td>\n",
       "    </tr>\n",
       "    <tr>\n",
       "      <td>2015</td>\n",
       "      <td>525.0</td>\n",
       "      <td>372.7</td>\n",
       "      <td>206.0</td>\n",
       "      <td>41.0</td>\n",
       "      <td>0.0</td>\n",
       "      <td>4.0</td>\n",
       "      <td>0.0</td>\n",
       "      <td>0.0</td>\n",
       "      <td>30.5</td>\n",
       "      <td>61.0</td>\n",
       "      <td>42.6</td>\n",
       "      <td>596.0</td>\n",
       "      <td>1878.8</td>\n",
       "    </tr>\n",
       "    <tr>\n",
       "      <td>2016</td>\n",
       "      <td>181.9</td>\n",
       "      <td>167.1</td>\n",
       "      <td>178.2</td>\n",
       "      <td>28.3</td>\n",
       "      <td>72.0</td>\n",
       "      <td>0.0</td>\n",
       "      <td>0.0</td>\n",
       "      <td>0.0</td>\n",
       "      <td>56.0</td>\n",
       "      <td>42.0</td>\n",
       "      <td>162.0</td>\n",
       "      <td>516.2</td>\n",
       "      <td>1403.7</td>\n",
       "    </tr>\n",
       "    <tr>\n",
       "      <td>2017</td>\n",
       "      <td>476.9</td>\n",
       "      <td>679.4</td>\n",
       "      <td>376.5</td>\n",
       "      <td>156.6</td>\n",
       "      <td>0.0</td>\n",
       "      <td>0.0</td>\n",
       "      <td>0.0</td>\n",
       "      <td>0.0</td>\n",
       "      <td>0.0</td>\n",
       "      <td>53.4</td>\n",
       "      <td>214.4</td>\n",
       "      <td>162.0</td>\n",
       "      <td>2119.2</td>\n",
       "    </tr>\n",
       "    <tr>\n",
       "      <td>2018</td>\n",
       "      <td>895.5</td>\n",
       "      <td>301.0</td>\n",
       "      <td>234.5</td>\n",
       "      <td>15.4</td>\n",
       "      <td>NaN</td>\n",
       "      <td>NaN</td>\n",
       "      <td>NaN</td>\n",
       "      <td>NaN</td>\n",
       "      <td>NaN</td>\n",
       "      <td>NaN</td>\n",
       "      <td>NaN</td>\n",
       "      <td>NaN</td>\n",
       "      <td>NaN</td>\n",
       "    </tr>\n",
       "  </tbody>\n",
       "</table>\n",
       "</div>"
      ],
      "text/plain": [
       "Empty DataFrame\n",
       "Columns: []\n",
       "Index: [(IDCJAC0001, 14050, 2002, nan, nan, nan, nan, nan, nan, nan, nan, nan, nan, nan, 138.1, nan), (IDCJAC0001, 14050, 2003, 497.1, nan, 162.6, 1.5, 0.0, 0.0, 0.0, 0.0, 14.0, 57.6, 163.5, 316.8, nan), (IDCJAC0001, 14050, 2004, 334.2, nan, 442.2, 15.3, 76.6, 38.0, 0.0, 0.0, 0.0, 36.1, 46.8, 313.6, nan), (IDCJAC0001, 14050, 2005, 258.7, 205.7, 169.4, 65.8, 0.0, 0.0, 0.0, 0.0, 23.0, 16.0, 93.4, 187.0, 1019.0), (IDCJAC0001, 14050, 2006, 383.5, 149.5, 560.0, nan, 14.0, 0.0, 0.0, 0.0, 6.0, nan, 13.0, 309.0, nan), (IDCJAC0001, 14050, 2007, 370.5, 368.0, 571.0, nan, 24.5, 0.5, nan, nan, 53.0, 46.0, 132.5, 239.5, nan), (IDCJAC0001, 14050, 2008, 419.7, nan, 249.5, 20.0, nan, nan, nan, nan, nan, nan, nan, nan, nan), (IDCJAC0001, 14050, 2010, nan, nan, nan, 36.7, 49.6, nan, nan, nan, nan, nan, nan, nan, nan), (IDCJAC0001, 14050, 2011, 625.3, 1029.3, 147.4, 160.8, nan, nan, nan, 0.2, 4.0, 70.0, 100.6, 116.4, nan), (IDCJAC0001, 14050, 2012, 579.0, 82.8, 168.4, 64.4, 48.0, nan, nan, nan, nan, nan, 0.0, 49.0, nan), (IDCJAC0001, 14050, 2013, nan, 39.0, nan, nan, nan, nan, nan, nan, nan, nan, nan, 207.0, nan), (IDCJAC0001, 14050, 2014, 668.0, 339.0, 86.0, 72.5, 11.6, nan, nan, nan, nan, 10.0, 233.0, 152.0, nan), (IDCJAC0001, 14050, 2015, 525.0, 372.7, 206.0, 41.0, 0.0, 4.0, 0.0, 0.0, 30.5, 61.0, 42.6, 596.0, 1878.8), (IDCJAC0001, 14050, 2016, 181.9, 167.1, 178.2, 28.3, 72.0, 0.0, 0.0, 0.0, 56.0, 42.0, 162.0, 516.2, 1403.7), (IDCJAC0001, 14050, 2017, 476.9, 679.4, 376.5, 156.6, 0.0, 0.0, 0.0, 0.0, 0.0, 53.4, 214.4, 162.0, 2119.2), (IDCJAC0001, 14050, 2018, 895.5, 301.0, 234.5, 15.4, nan, nan, nan, nan, nan, nan, nan, nan, nan)]"
      ]
     },
     "execution_count": 11,
     "metadata": {},
     "output_type": "execute_result"
    }
   ],
   "source": [
    "# Import pandas for dataframes and matplotlib for plotting\n",
    "import matplotlib.pyplot as plt\n",
    "import pandas\n",
    "\n",
    "# Set variables for file and index column\n",
    "darwin_file = 'darwin_raindata_set.csv' #import csv dataset for darwin from BoM\n",
    "darwin_colname = ('Product code','Station Number','Year','Jan','Feb','Mar','Apr','May','Jun','Jul','Aug','Sep','Oct','Nov','Dec','Annual') \n",
    "\n",
    "# Read the dataset and show in detailed years, mothns and mm rainfall per month\n",
    "darwin_data = pandas.read_csv(darwin_file, index_col= darwin_colname)\n",
    "darwin_data"
   ]
  },
  {
   "cell_type": "markdown",
   "metadata": {},
   "source": [
    "##### Darwin precipitations from Jan to Dec 2017"
   ]
  },
  {
   "cell_type": "code",
   "execution_count": 12,
   "metadata": {},
   "outputs": [
    {
     "data": {
      "text/plain": [
       "(476.9, 679.4, 376.5, 156.6, 0.0, 0.0, 0.0, 0.0, 0.0, 53.4, 214.4, 162.0)"
      ]
     },
     "execution_count": 12,
     "metadata": {},
     "output_type": "execute_result"
    }
   ],
   "source": [
    "#rainfall data for darwin in 2017 from January to December in ascending order\n",
    "#eliminate useless comlums and rows\n",
    "\n",
    "darwin_data_cln = darwin_data.index.values[14]\n",
    "darwin_data_cln = darwin_data_cln[3:15] \n",
    "darwin_data_cln"
   ]
  },
  {
   "cell_type": "markdown",
   "metadata": {},
   "source": [
    "##### Sydney"
   ]
  },
  {
   "cell_type": "code",
   "execution_count": 13,
   "metadata": {},
   "outputs": [
    {
     "data": {
      "text/html": [
       "<div>\n",
       "<style scoped>\n",
       "    .dataframe tbody tr th:only-of-type {\n",
       "        vertical-align: middle;\n",
       "    }\n",
       "\n",
       "    .dataframe tbody tr th {\n",
       "        vertical-align: top;\n",
       "    }\n",
       "\n",
       "    .dataframe thead th {\n",
       "        text-align: right;\n",
       "    }\n",
       "</style>\n",
       "<table border=\"1\" class=\"dataframe\">\n",
       "  <thead>\n",
       "    <tr style=\"text-align: right;\">\n",
       "      <th></th>\n",
       "      <th></th>\n",
       "      <th></th>\n",
       "      <th></th>\n",
       "      <th></th>\n",
       "      <th></th>\n",
       "      <th></th>\n",
       "      <th></th>\n",
       "      <th></th>\n",
       "      <th></th>\n",
       "      <th></th>\n",
       "      <th></th>\n",
       "      <th></th>\n",
       "      <th></th>\n",
       "      <th></th>\n",
       "      <th></th>\n",
       "    </tr>\n",
       "    <tr>\n",
       "      <th>Product code</th>\n",
       "      <th>Station Number</th>\n",
       "      <th>Year</th>\n",
       "      <th>Jan</th>\n",
       "      <th>Feb</th>\n",
       "      <th>Mar</th>\n",
       "      <th>Apr</th>\n",
       "      <th>May</th>\n",
       "      <th>Jun</th>\n",
       "      <th>Jul</th>\n",
       "      <th>Aug</th>\n",
       "      <th>Sep</th>\n",
       "      <th>Oct</th>\n",
       "      <th>Nov</th>\n",
       "      <th>Dec</th>\n",
       "      <th>Annual</th>\n",
       "    </tr>\n",
       "  </thead>\n",
       "  <tbody>\n",
       "    <tr>\n",
       "      <td rowspan=\"11\" valign=\"top\">IDCJAC0001</td>\n",
       "      <td rowspan=\"11\" valign=\"top\">66006</td>\n",
       "      <td>1885</td>\n",
       "      <td>87.0</td>\n",
       "      <td>29.0</td>\n",
       "      <td>52.1</td>\n",
       "      <td>36.1</td>\n",
       "      <td>4.1</td>\n",
       "      <td>414.5</td>\n",
       "      <td>191.0</td>\n",
       "      <td>0.0</td>\n",
       "      <td>11.4</td>\n",
       "      <td>6.6</td>\n",
       "      <td>12.4</td>\n",
       "      <td>94.9</td>\n",
       "      <td>939.1</td>\n",
       "    </tr>\n",
       "    <tr>\n",
       "      <td>1886</td>\n",
       "      <td>66.1</td>\n",
       "      <td>12.7</td>\n",
       "      <td>127.4</td>\n",
       "      <td>84.2</td>\n",
       "      <td>60.2</td>\n",
       "      <td>39.0</td>\n",
       "      <td>137.1</td>\n",
       "      <td>49.9</td>\n",
       "      <td>6.6</td>\n",
       "      <td>101.1</td>\n",
       "      <td>107.0</td>\n",
       "      <td>78.8</td>\n",
       "      <td>870.1</td>\n",
       "    </tr>\n",
       "    <tr>\n",
       "      <td>1887</td>\n",
       "      <td>153.8</td>\n",
       "      <td>114.8</td>\n",
       "      <td>65.9</td>\n",
       "      <td>207.2</td>\n",
       "      <td>261.0</td>\n",
       "      <td>140.4</td>\n",
       "      <td>90.2</td>\n",
       "      <td>183.3</td>\n",
       "      <td>33.3</td>\n",
       "      <td>9.1</td>\n",
       "      <td>128.4</td>\n",
       "      <td>139.4</td>\n",
       "      <td>1526.8</td>\n",
       "    </tr>\n",
       "    <tr>\n",
       "      <td>1888</td>\n",
       "      <td>0.0</td>\n",
       "      <td>74.6</td>\n",
       "      <td>2.5</td>\n",
       "      <td>0.5</td>\n",
       "      <td>11.0</td>\n",
       "      <td>41.5</td>\n",
       "      <td>72.9</td>\n",
       "      <td>51.1</td>\n",
       "      <td>64.4</td>\n",
       "      <td>26.1</td>\n",
       "      <td>8.6</td>\n",
       "      <td>199.1</td>\n",
       "      <td>552.3</td>\n",
       "    </tr>\n",
       "    <tr>\n",
       "      <td>1889</td>\n",
       "      <td>43.3</td>\n",
       "      <td>57.1</td>\n",
       "      <td>24.2</td>\n",
       "      <td>86.8</td>\n",
       "      <td>521.9</td>\n",
       "      <td>28.3</td>\n",
       "      <td>238.4</td>\n",
       "      <td>113.4</td>\n",
       "      <td>99.8</td>\n",
       "      <td>15.0</td>\n",
       "      <td>130.7</td>\n",
       "      <td>54.7</td>\n",
       "      <td>1413.6</td>\n",
       "    </tr>\n",
       "    <tr>\n",
       "      <td>...</td>\n",
       "      <td>...</td>\n",
       "      <td>...</td>\n",
       "      <td>...</td>\n",
       "      <td>...</td>\n",
       "      <td>...</td>\n",
       "      <td>...</td>\n",
       "      <td>...</td>\n",
       "      <td>...</td>\n",
       "      <td>...</td>\n",
       "      <td>...</td>\n",
       "      <td>...</td>\n",
       "      <td>...</td>\n",
       "      <td>...</td>\n",
       "    </tr>\n",
       "    <tr>\n",
       "      <td>2014</td>\n",
       "      <td>20.4</td>\n",
       "      <td>62.8</td>\n",
       "      <td>128.6</td>\n",
       "      <td>NaN</td>\n",
       "      <td>39.0</td>\n",
       "      <td>68.6</td>\n",
       "      <td>18.9</td>\n",
       "      <td>214.2</td>\n",
       "      <td>54.8</td>\n",
       "      <td>94.2</td>\n",
       "      <td>23.7</td>\n",
       "      <td>139.7</td>\n",
       "      <td>NaN</td>\n",
       "    </tr>\n",
       "    <tr>\n",
       "      <td>2015</td>\n",
       "      <td>200.6</td>\n",
       "      <td>57.7</td>\n",
       "      <td>NaN</td>\n",
       "      <td>406.1</td>\n",
       "      <td>102.5</td>\n",
       "      <td>126.3</td>\n",
       "      <td>49.0</td>\n",
       "      <td>94.0</td>\n",
       "      <td>94.1</td>\n",
       "      <td>53.1</td>\n",
       "      <td>127.9</td>\n",
       "      <td>116.8</td>\n",
       "      <td>NaN</td>\n",
       "    </tr>\n",
       "    <tr>\n",
       "      <td>2016</td>\n",
       "      <td>268.2</td>\n",
       "      <td>34.2</td>\n",
       "      <td>220.8</td>\n",
       "      <td>121.1</td>\n",
       "      <td>7.9</td>\n",
       "      <td>374.8</td>\n",
       "      <td>101.8</td>\n",
       "      <td>160.9</td>\n",
       "      <td>77.8</td>\n",
       "      <td>32.1</td>\n",
       "      <td>30.2</td>\n",
       "      <td>65.5</td>\n",
       "      <td>1495.3</td>\n",
       "    </tr>\n",
       "    <tr>\n",
       "      <td>2017</td>\n",
       "      <td>55.6</td>\n",
       "      <td>236.0</td>\n",
       "      <td>340.1</td>\n",
       "      <td>84.8</td>\n",
       "      <td>34.3</td>\n",
       "      <td>207.2</td>\n",
       "      <td>14.8</td>\n",
       "      <td>26.4</td>\n",
       "      <td>0.6</td>\n",
       "      <td>61.0</td>\n",
       "      <td>71.8</td>\n",
       "      <td>NaN</td>\n",
       "      <td>NaN</td>\n",
       "    </tr>\n",
       "    <tr>\n",
       "      <td>2018</td>\n",
       "      <td>43.4</td>\n",
       "      <td>102.4</td>\n",
       "      <td>121.6</td>\n",
       "      <td>26.3</td>\n",
       "      <td>NaN</td>\n",
       "      <td>NaN</td>\n",
       "      <td>NaN</td>\n",
       "      <td>NaN</td>\n",
       "      <td>NaN</td>\n",
       "      <td>NaN</td>\n",
       "      <td>NaN</td>\n",
       "      <td>NaN</td>\n",
       "      <td>NaN</td>\n",
       "    </tr>\n",
       "  </tbody>\n",
       "</table>\n",
       "<p>134 rows × 0 columns</p>\n",
       "</div>"
      ],
      "text/plain": [
       "Empty DataFrame\n",
       "Columns: []\n",
       "Index: [(IDCJAC0001, 66006, 1885, 87.0, 29.0, 52.1, 36.1, 4.1, 414.5, 191.0, 0.0, 11.4, 6.6, 12.4, 94.9, 939.1), (IDCJAC0001, 66006, 1886, 66.1, 12.7, 127.4, 84.2, 60.2, 39.0, 137.1, 49.9, 6.6, 101.1, 107.0, 78.8, 870.1), (IDCJAC0001, 66006, 1887, 153.8, 114.8, 65.9, 207.2, 261.0, 140.4, 90.2, 183.3, 33.3, 9.1, 128.4, 139.4, 1526.8), (IDCJAC0001, 66006, 1888, 0.0, 74.6, 2.5, 0.5, 11.0, 41.5, 72.9, 51.1, 64.4, 26.1, 8.6, 199.1, 552.3), (IDCJAC0001, 66006, 1889, 43.3, 57.1, 24.2, 86.8, 521.9, 28.3, 238.4, 113.4, 99.8, 15.0, 130.7, 54.7, 1413.6), (IDCJAC0001, 66006, 1890, 139.3, 468.3, 424.7, 71.8, 216.7, 288.3, 229.7, 37.6, 63.5, 45.4, 120.7, 62.0, 2168.0), (IDCJAC0001, 66006, 1891, 102.7, 69.5, 251.0, 143.4, 91.5, 426.0, 107.7, 92.5, 165.8, 48.1, 85.2, 23.6, 1607.0), (IDCJAC0001, 66006, 1892, 136.9, 116.1, 481.9, 98.6, 81.2, 55.3, 110.0, 133.6, 181.1, 132.3, 72.0, 165.8, 1764.8), (IDCJAC0001, 66006, 1893, 95.1, 81.6, 275.5, 190.8, 43.9, 198.8, 135.6, 76.1, 39.6, 119.2, 115.4, 44.6, 1416.2), (IDCJAC0001, 66006, 1894, 40.3, 180.8, 340.7, 100.3, 32.8, 41.7, 57.0, 39.9, 176.2, 69.8, 10.4, 99.6, 1189.5), (IDCJAC0001, 66006, 1895, 220.6, 204.7, 37.8, 76.1, 66.8, 31.4, 10.7, 15.1, 110.2, 24.6, 76.3, 86.4, 960.7), (IDCJAC0001, 66006, 1896, 42.9, 120.9, 102.4, 3.3, 99.6, 269.0, 51.3, 39.9, 7.9, 50.8, 136.4, 43.2, 967.6), (IDCJAC0001, 66006, 1897, 32.3, 8.9, 98.0, 163.8, 87.6, 205.7, 157.2, 115.8, 30.7, 30.7, 4.1, 135.4, 1070.2), (IDCJAC0001, 66006, 1898, 139.7, 116.3, 41.4, 12.4, 313.4, 167.9, 74.7, 130.8, 30.5, 97.5, 11.9, 26.4, 1162.9), (IDCJAC0001, 66006, 1899, 52.8, 30.7, 73.7, 86.1, 162.1, 287.5, 102.6, 373.9, 0.0, 90.2, 131.1, 20.3, 1411.0), (IDCJAC0001, 66006, 1900, 43.7, 39.1, 109.2, 151.9, 319.0, 282.7, 326.9, 12.4, 64.8, 2.5, 187.7, 44.5, 1584.4), (IDCJAC0001, 66006, 1901, 161.5, 37.8, 83.6, 356.6, 46.5, 23.6, 101.3, 109.5, 73.7, 45.7, 17.3, 8.6, 1065.7), (IDCJAC0001, 66006, 1902, 58.4, 7.6, 52.6, 64.3, 34.0, 22.9, 284.5, 163.6, 49.8, 268.7, 72.6, 63.5, 1142.5), (IDCJAC0001, 66006, 1903, 49.0, 26.2, 93.2, 45.5, 80.5, 47.5, 120.4, 143.0, 126.7, 94.7, 61.0, 101.6, 989.3), (IDCJAC0001, 66006, 1904, 48.8, 98.6, 132.3, 332.5, 146.3, 4.6, 274.8, 37.3, 27.4, 62.7, 12.4, 21.3, 1199.0), (IDCJAC0001, 66006, 1905, 43.2, 52.3, 204.0, 141.2, 143.3, 58.2, 11.4, 17.8, 69.3, 64.0, 9.9, 42.9, 857.5), (IDCJAC0001, 66006, 1906, 58.4, 9.7, 99.3, 23.9, 213.6, 54.9, 5.6, 131.6, 33.0, 48.0, 109.5, 33.8, 821.3), (IDCJAC0001, 66006, 1907, 66.0, 63.0, 203.7, 35.1, 38.6, 254.5, 11.2, 7.6, 7.1, 14.5, 52.3, 45.2, 798.8), (IDCJAC0001, 66006, 1908, 43.9, 182.1, 70.4, 73.4, 67.1, 25.4, 290.1, 243.8, 75.4, 38.1, 16.5, 31.8, 1158.0), (IDCJAC0001, 66006, 1909, 32.5, 202.7, 34.8, 34.8, 30.7, 117.6, 22.8, 56.7, 132.3, 66.9, 23.1, 86.4, 841.3), (IDCJAC0001, 66006, 1910, 128.2, 11.8, 184.5, 94.7, 68.2, 78.8, 225.7, 5.8, 53.1, 84.0, 4.9, 214.0, 1153.7), (IDCJAC0001, 66006, 1911, 369.0, 131.9, 48.6, 77.0, 40.0, 4.0, 188.1, 202.7, 47.0, 17.9, 46.0, 70.1, 1242.3), (IDCJAC0001, 66006, 1912, 31.6, 162.3, 219.5, 121.1, 84.4, 58.3, 286.2, 46.4, 11.2, 25.2, 80.0, 53.0, 1179.2), (IDCJAC0001, 66006, 1913, 20.4, 38.3, 207.6, 243.4, 416.2, 278.3, 194.3, 1.8, 35.7, 26.7, 16.3, 5.0, 1484.0), (IDCJAC0001, 66006, 1914, 17.8, 39.6, 250.2, 37.1, 79.0, 153.5, 228.8, 58.5, 161.0, 191.6, 61.8, 221.0, 1499.9), (IDCJAC0001, 66006, 1915, 34.8, 35.1, 82.4, 309.8, 141.2, 42.2, 146.1, 31.2, 42.2, 24.6, 1.4, 85.0, 976.0), (IDCJAC0001, 66006, 1916, 36.9, 70.3, 97.4, 114.8, 51.9, 52.1, 90.6, 73.1, 119.3, 208.9, 79.0, 81.6, 1075.9), (IDCJAC0001, 66006, 1917, 76.5, 160.0, 29.8, 340.9, 79.6, 110.7, 8.9, 39.7, 148.6, 127.7, 179.4, 51.6, 1353.4), (IDCJAC0001, 66006, 1918, 317.5, 105.7, 62.4, 142.0, 13.2, 12.5, 217.5, 63.9, 90.4, 19.3, 34.8, 26.9, 1106.1), (IDCJAC0001, 66006, 1919, 48.0, 144.6, 145.5, 113.6, 642.1, 62.3, 53.5, 20.1, 99.0, 105.1, 89.5, 73.6, 1596.9), (IDCJAC0001, 66006, 1920, 183.8, 44.8, 42.4, 62.9, 9.9, 62.1, 153.9, 32.7, 26.3, 43.9, 46.9, 403.4, 1113.0), (IDCJAC0001, 66006, 1921, 80.8, 20.9, 86.1, 152.0, 184.0, 24.2, 198.4, 30.5, 73.1, 82.7, 71.6, 134.4, 1138.7), (IDCJAC0001, 66006, 1922, 182.3, 56.8, 49.9, 38.3, 106.7, 43.0, 291.4, 52.4, 105.9, 87.7, 10.9, 38.4, 1063.7), (IDCJAC0001, 66006, 1923, 43.2, 19.5, 51.8, 257.2, 26.0, 102.0, 161.2, 105.8, 63.7, 34.0, 41.5, 35.0, 940.9), (IDCJAC0001, 66006, 1924, 93.7, 57.8, 96.5, 168.7, 83.0, 50.7, 41.2, 65.7, 74.9, 32.8, 82.8, 66.2, 914.0), (IDCJAC0001, 66006, 1925, 114.3, 48.3, 68.5, 54.2, 536.6, 171.0, 5.4, 96.7, 15.7, 16.6, 99.0, 30.8, 1257.1), (IDCJAC0001, 66006, 1926, 89.0, 26.2, 317.6, 92.3, 69.4, 33.2, 58.4, 26.7, 43.3, 7.6, 0.5, 172.2, 936.4), (IDCJAC0001, 66006, 1927, 104.2, 16.5, 105.0, 455.2, 54.5, 112.6, 8.4, 7.8, 75.7, 91.0, 151.7, 54.5, 1237.1), (IDCJAC0001, 66006, 1928, 62.4, 173.4, 128.6, 118.2, 82.1, 175.3, 172.5, 34.8, 4.6, 42.9, 6.8, 51.1, 1052.7), (IDCJAC0001, 66006, 1929, 8.4, 295.7, 133.7, 172.0, 253.0, 75.0, 79.0, 103.5, 41.4, 211.1, 95.2, 48.8, 1516.8), (IDCJAC0001, 66006, 1930, 114.6, 15.9, 109.5, 164.6, 121.8, 326.3, 108.2, 31.1, 5.4, 49.1, 22.5, 133.4, 1202.4), (IDCJAC0001, 66006, 1931, 55.9, 39.4, 182.2, 189.8, 91.4, 32.2, 315.8, 4.8, 145.8, 24.7, 81.8, 93.4, 1257.2), (IDCJAC0001, 66006, 1932, 5.1, 119.3, 78.4, 97.1, 54.5, 30.1, 80.2, 55.4, 228.7, 23.5, 95.1, 106.7, 974.1), (IDCJAC0001, 66006, 1933, 189.1, 10.0, 58.6, 191.3, 138.5, 51.8, 83.4, 8.2, 68.0, 105.2, 114.1, 81.3, 1099.5), (IDCJAC0001, 66006, 1934, 58.6, 207.2, 51.8, 224.5, 141.5, 114.0, 261.2, 157.0, 174.9, 51.1, 112.8, 159.1, 1713.7), (IDCJAC0001, 66006, 1935, 75.2, 81.7, 72.5, 24.7, 57.6, 120.1, 34.1, 5.3, 63.5, 86.0, 60.0, 110.2, 790.9), (IDCJAC0001, 66006, 1936, 98.6, 120.6, 92.9, 46.7, 55.8, 75.4, 21.8, 35.5, 36.9, 20.5, 6.4, 140.1, 751.2), (IDCJAC0001, 66006, 1937, 54.2, 31.9, 254.5, 157.0, 19.8, 404.6, 81.4, 107.8, 12.7, 85.5, 103.4, 57.8, 1370.6), (IDCJAC0001, 66006, 1938, 257.7, 105.8, 31.5, 70.6, 94.1, 11.8, 77.7, 217.2, 50.4, 73.1, 38.9, 10.9, 1039.7), (IDCJAC0001, 66006, 1939, 76.5, 2.0, 265.8, 107.5, 90.0, 19.7, 34.6, 63.3, 69.3, 50.1, 53.2, 19.8, 851.8), (IDCJAC0001, 66006, 1940, 8.9, 18.2, 13.3, 159.9, 153.8, 40.7, 99.9, 76.4, 71.4, 56.1, 62.1, 159.5, 920.2), (IDCJAC0001, 66006, 1941, 99.9, 54.8, 40.5, 82.6, 55.0, 53.2, 44.5, 75.7, 51.6, 51.3, 29.1, 25.9, 664.1), (IDCJAC0001, 66006, 1942, 8.1, 35.3, 520.9, 13.9, 40.6, 136.1, 55.7, 27.7, 17.8, 152.6, 132.6, 98.0, 1239.3), (IDCJAC0001, 66006, 1943, 50.1, 12.9, 29.1, 38.5, 367.1, 10.6, 5.9, 189.4, 211.1, 41.7, 211.0, 81.2, 1248.6), (IDCJAC0001, 66006, 1944, 72.9, 92.9, 109.4, 69.7, 99.4, 53.1, 79.0, 109.3, 23.3, 27.2, 15.8, 20.3, 772.3), (IDCJAC0001, 66006, 1945, 58.1, 43.0, 34.5, 324.3, 185.6, 202.3, 79.2, 57.4, 6.1, 35.8, 51.9, 38.7, 1116.9), (IDCJAC0001, 66006, 1946, 14.2, 74.0, 97.3, 260.2, 63.2, 171.7, 1.5, 5.8, 25.3, 63.5, 87.4, 18.6, 882.7), (IDCJAC0001, 66006, 1947, 40.7, 126.2, 53.7, 196.9, 126.2, 51.1, 13.2, 46.1, 20.7, 52.1, 112.1, 212.9, 1051.9), (IDCJAC0001, 66006, 1948, 212.9, 62.6, 105.3, 37.3, 152.6, 198.0, 18.2, 9.9, 71.4, 16.2, 26.1, 104.3, 1014.8), (IDCJAC0001, 66006, 1949, 274.9, 165.8, 113.8, 34.6, 123.6, 427.6, 69.1, 147.8, 257.1, 37.7, 96.3, 50.5, 1798.8), (IDCJAC0001, 66006, 1950, 160.6, 151.8, 122.8, 166.8, 165.8, 681.4, 346.5, 85.5, 97.2, 112.3, 108.8, 44.2, 2243.7), (IDCJAC0001, 66006, 1951, 270.4, 63.4, 112.8, 41.3, 175.1, 373.7, 49.9, 157.0, 89.7, 50.0, 16.5, 14.8, 1414.6), (IDCJAC0001, 66006, 1952, 56.1, 53.9, 97.2, 250.0, 61.6, 152.9, 226.2, 346.4, 21.1, 212.1, 80.1, 40.8, 1598.4), (IDCJAC0001, 66006, 1953, 78.5, 159.0, 95.2, 18.8, 479.0, 42.4, 77.5, 51.7, 28.8, 69.0, 47.1, 10.7, 1157.7), (IDCJAC0001, 66006, 1954, 137.2, 246.3, 18.3, 19.4, 40.1, 11.5, 117.4, 35.1, 56.5, 179.9, 166.8, 83.1, 1111.6), (IDCJAC0001, 66006, 1955, 203.5, 271.7, 229.0, 80.4, 330.2, 142.3, 49.3, 16.3, 27.7, 45.8, 227.2, 251.1, 1874.5), (IDCJAC0001, 66006, 1956, 105.5, 578.1, 356.1, 32.7, 149.3, 210.0, 60.7, 89.7, 27.4, 64.7, 8.8, 27.3, 1710.3), (IDCJAC0001, 66006, 1957, 49.9, 69.7, 160.0, 26.1, 2.6, 27.0, 130.9, 139.6, 21.5, 12.0, 27.9, 52.4, 719.6), (IDCJAC0001, 66006, 1958, 122.8, 338.5, 343.7, 76.4, 14.2, 212.6, 30.3, 84.1, 29.5, 53.4, 11.3, 148.9, 1465.7), (IDCJAC0001, 66006, 1959, 154.7, 185.2, 150.7, 36.0, 52.9, 113.8, 201.4, 92.0, 89.5, 320.8, 105.6, 47.8, 1550.4), (IDCJAC0001, 66006, 1960, 56.9, 89.3, 41.8, 30.1, 113.3, 87.4, 148.5, 59.8, 63.2, 272.7, 66.4, 240.1, 1269.5), (IDCJAC0001, 66006, 1961, 58.1, 86.9, 43.5, 83.8, 29.3, 53.7, 39.8, 258.5, 50.7, 71.9, 485.9, 164.8, 1426.9), (IDCJAC0001, 66006, 1962, 117.3, 166.5, 58.5, 88.4, 256.3, 3.8, 46.5, 115.8, 79.8, 20.6, 13.0, 119.3, 1085.8), (IDCJAC0001, 66006, 1963, 123.2, 44.0, 398.5, 241.5, 216.2, 254.3, 74.0, 237.7, 20.0, 59.9, 42.1, 243.6, 1955.0), (IDCJAC0001, 66006, 1964, 17.2, 40.1, 153.6, 135.7, 78.8, 434.4, 9.1, 24.6, 16.7, 85.5, 71.9, 38.1, 1105.7), (IDCJAC0001, 66006, 1965, 30.5, 33.5, 7.9, 93.2, 45.8, 235.2, 93.1, 11.5, 95.6, 177.4, 37.8, 38.1, 899.6), (IDCJAC0001, 66006, 1966, 22.8, 140.9, 138.4, 240.3, 65.8, 139.9, 15.6, 100.1, 62.7, 57.6, 179.6, 96.1, 1259.8), (IDCJAC0001, 66006, 1967, 156.7, 156.6, 136.9, 39.1, 43.9, 342.4, 31.3, 200.2, 107.8, 87.4, 111.2, 48.8, 1462.3), (IDCJAC0001, 66006, 1968, 132.7, 20.2, 115.4, 16.0, 116.7, 23.9, 64.3, 28.7, 5.1, 4.4, 18.1, 86.9, 632.4), (IDCJAC0001, 66006, 1969, 53.0, 251.2, 100.8, 186.5, 49.4, 204.0, 51.0, 164.7, 85.3, 42.9, 248.0, 35.5, 1472.3), (IDCJAC0001, 66006, 1970, 142.8, 49.3, 203.4, 58.5, 10.6, 40.7, 1.8, 34.4, 165.4, 20.3, 127.5, 274.4, 1129.1), (IDCJAC0001, 66006, 1971, 132.2, 181.2, 78.2, 84.6, 114.6, 70.2, 19.6, 180.6, 54.6, 2.5, 76.0, 129.5, 1123.8), (IDCJAC0001, 66006, 1972, 400.7, 110.3, 201.0, 70.6, 96.3, 112.0, 4.1, 34.9, 11.1, 170.0, 63.5, 42.8, 1317.3), (IDCJAC0001, 66006, 1973, 279.8, 351.1, 108.5, 77.4, 28.5, 73.8, 107.6, 91.2, 72.6, 178.6, 121.8, 33.4, 1524.3), (IDCJAC0001, 66006, 1974, 200.6, 44.0, 284.6, 164.6, 229.5, 220.5, 17.4, 175.8, 46.4, 74.7, 115.2, 33.4, 1606.7), (IDCJAC0001, 66006, 1975, 47.6, 140.0, 388.6, 78.0, 18.6, 379.2, 49.0, 25.8, 49.6, 115.0, 32.2, 37.4, 1361.0), (IDCJAC0001, 66006, 1976, 293.6, 221.0, 304.3, 50.8, 22.9, 155.4, 153.4, 38.0, 135.4, 286.0, 112.6, 23.6, 1797.0), (IDCJAC0001, 66006, 1977, 99.0, 174.4, 256.8, 25.8, 133.2, 111.4, 10.0, 20.6, 49.0, 20.0, 36.0, 30.8, 967.0), (IDCJAC0001, 66006, 1978, 225.4, 15.4, 250.2, 141.0, 118.2, 301.8, 19.4, 37.2, 113.6, 88.3, 96.8, 93.0, 1500.3), (IDCJAC0001, 66006, 1979, 122.1, 16.1, 200.2, 24.6, 121.2, 169.4, 26.4, 9.2, 28.0, 50.0, 91.8, 2.6, 861.6), (IDCJAC0001, 66006, 1980, 169.7, 81.4, 76.2, 22.6, 132.1, 47.4, 52.4, 14.8, 5.5, 34.1, 41.2, 50.2, 727.6), (IDCJAC0001, 66006, 1981, 64.4, 208.0, 38.2, 133.4, 90.0, 43.4, 39.8, 10.4, 4.0, 244.0, 126.8, 66.2, 1068.6), (IDCJAC0001, 66006, 1982, 51.2, 31.4, 164.8, 20.2, 15.8, 125.4, 160.8, 23.9, 208.5, 51.2, 20.0, 22.2, 895.4), (IDCJAC0001, 66006, 1983, 42.6, 50.2, 310.2, 157.8, 203.2, 78.6, 40.6, 145.4, 46.6, 158.0, 35.0, 103.2, 1371.4), (IDCJAC0001, 66006, 1984, 191.2, 130.5, 276.6, 100.6, 142.5, 89.8, 150.8, 8.8, 52.4, 54.0, 517.3, 97.9, 1812.4), ...]\n",
       "\n",
       "[134 rows x 0 columns]"
      ]
     },
     "execution_count": 13,
     "metadata": {},
     "output_type": "execute_result"
    }
   ],
   "source": [
    "# Import pandas for dataframes and matplotlib for plotting\n",
    "import matplotlib.pyplot as plt\n",
    "import pandas\n",
    "\n",
    "# Set variables for file and index column\n",
    "sydney_file = 'sydney_raindata_set.csv' #import csv dataset for sydney from BoM\n",
    "sydney_colname = ('Product code','Station Number','Year','Jan','Feb','Mar','Apr','May','Jun','Jul','Aug','Sep','Oct','Nov','Dec','Annual') \n",
    "\n",
    "# Read the dataset and show in detailed years, mothns and mm rainfall per month\n",
    "sydney_data = pandas.read_csv(sydney_file, index_col= sydney_colname)\n",
    "sydney_data"
   ]
  },
  {
   "cell_type": "markdown",
   "metadata": {},
   "source": [
    "##### Sydney precipitations from Jan to Dec 2016"
   ]
  },
  {
   "cell_type": "code",
   "execution_count": 14,
   "metadata": {},
   "outputs": [
    {
     "data": {
      "text/plain": [
       "(268.2, 34.2, 220.8, 121.1, 7.9, 374.8, 101.8, 160.9, 77.8, 32.1, 30.2, 65.5)"
      ]
     },
     "execution_count": 14,
     "metadata": {},
     "output_type": "execute_result"
    }
   ],
   "source": [
    "#rainfall data for sydney in 2016 from January to December in ascending order\n",
    "#taking 2016s because 2017 data is not fully available\n",
    "#eliminate useless comlums and rows\n",
    "\n",
    "sydney_data_cln = sydney_data.index.values[131]\n",
    "sydney_data_cln = sydney_data_cln[3:15] \n",
    "sydney_data_cln"
   ]
  },
  {
   "cell_type": "markdown",
   "metadata": {},
   "source": [
    "##### Brisbane"
   ]
  },
  {
   "cell_type": "code",
   "execution_count": 15,
   "metadata": {},
   "outputs": [
    {
     "data": {
      "text/html": [
       "<div>\n",
       "<style scoped>\n",
       "    .dataframe tbody tr th:only-of-type {\n",
       "        vertical-align: middle;\n",
       "    }\n",
       "\n",
       "    .dataframe tbody tr th {\n",
       "        vertical-align: top;\n",
       "    }\n",
       "\n",
       "    .dataframe thead th {\n",
       "        text-align: right;\n",
       "    }\n",
       "</style>\n",
       "<table border=\"1\" class=\"dataframe\">\n",
       "  <thead>\n",
       "    <tr style=\"text-align: right;\">\n",
       "      <th></th>\n",
       "      <th></th>\n",
       "      <th></th>\n",
       "      <th></th>\n",
       "      <th></th>\n",
       "      <th></th>\n",
       "      <th></th>\n",
       "      <th></th>\n",
       "      <th></th>\n",
       "      <th></th>\n",
       "      <th></th>\n",
       "      <th></th>\n",
       "      <th></th>\n",
       "      <th></th>\n",
       "      <th></th>\n",
       "      <th></th>\n",
       "    </tr>\n",
       "    <tr>\n",
       "      <th>Product code</th>\n",
       "      <th>Station Number</th>\n",
       "      <th>Year</th>\n",
       "      <th>Jan</th>\n",
       "      <th>Feb</th>\n",
       "      <th>Mar</th>\n",
       "      <th>Apr</th>\n",
       "      <th>May</th>\n",
       "      <th>Jun</th>\n",
       "      <th>Jul</th>\n",
       "      <th>Aug</th>\n",
       "      <th>Sep</th>\n",
       "      <th>Oct</th>\n",
       "      <th>Nov</th>\n",
       "      <th>Dec</th>\n",
       "      <th>Annual</th>\n",
       "    </tr>\n",
       "  </thead>\n",
       "  <tbody>\n",
       "    <tr>\n",
       "      <td rowspan=\"14\" valign=\"top\">IDCJAC0001</td>\n",
       "      <td rowspan=\"14\" valign=\"top\">40976</td>\n",
       "      <td>2005</td>\n",
       "      <td>88.5</td>\n",
       "      <td>27.5</td>\n",
       "      <td>10.0</td>\n",
       "      <td>38.0</td>\n",
       "      <td>44.9</td>\n",
       "      <td>103.9</td>\n",
       "      <td>NaN</td>\n",
       "      <td>18.0</td>\n",
       "      <td>NaN</td>\n",
       "      <td>125.5</td>\n",
       "      <td>113.0</td>\n",
       "      <td>NaN</td>\n",
       "      <td>NaN</td>\n",
       "    </tr>\n",
       "    <tr>\n",
       "      <td>2006</td>\n",
       "      <td>139.5</td>\n",
       "      <td>98.9</td>\n",
       "      <td>90.9</td>\n",
       "      <td>45.0</td>\n",
       "      <td>7.8</td>\n",
       "      <td>40.4</td>\n",
       "      <td>30.1</td>\n",
       "      <td>47.2</td>\n",
       "      <td>73.6</td>\n",
       "      <td>34.5</td>\n",
       "      <td>66.3</td>\n",
       "      <td>66.0</td>\n",
       "      <td>740.2</td>\n",
       "    </tr>\n",
       "    <tr>\n",
       "      <td>2007</td>\n",
       "      <td>74.7</td>\n",
       "      <td>82.6</td>\n",
       "      <td>22.7</td>\n",
       "      <td>6.6</td>\n",
       "      <td>34.3</td>\n",
       "      <td>117.2</td>\n",
       "      <td>1.4</td>\n",
       "      <td>110.3</td>\n",
       "      <td>46.7</td>\n",
       "      <td>67.1</td>\n",
       "      <td>74.1</td>\n",
       "      <td>115.7</td>\n",
       "      <td>753.4</td>\n",
       "    </tr>\n",
       "    <tr>\n",
       "      <td>2008</td>\n",
       "      <td>222.6</td>\n",
       "      <td>166.5</td>\n",
       "      <td>38.3</td>\n",
       "      <td>14.0</td>\n",
       "      <td>53.3</td>\n",
       "      <td>156.3</td>\n",
       "      <td>87.9</td>\n",
       "      <td>5.3</td>\n",
       "      <td>69.5</td>\n",
       "      <td>89.4</td>\n",
       "      <td>367.1</td>\n",
       "      <td>76.9</td>\n",
       "      <td>1347.1</td>\n",
       "    </tr>\n",
       "    <tr>\n",
       "      <td>2009</td>\n",
       "      <td>73.2</td>\n",
       "      <td>139.2</td>\n",
       "      <td>51.8</td>\n",
       "      <td>213.4</td>\n",
       "      <td>375.9</td>\n",
       "      <td>108.7</td>\n",
       "      <td>3.0</td>\n",
       "      <td>6.9</td>\n",
       "      <td>23.5</td>\n",
       "      <td>61.7</td>\n",
       "      <td>54.5</td>\n",
       "      <td>210.6</td>\n",
       "      <td>1322.4</td>\n",
       "    </tr>\n",
       "    <tr>\n",
       "      <td>2010</td>\n",
       "      <td>NaN</td>\n",
       "      <td>288.5</td>\n",
       "      <td>188.7</td>\n",
       "      <td>44.6</td>\n",
       "      <td>55.1</td>\n",
       "      <td>7.2</td>\n",
       "      <td>30.6</td>\n",
       "      <td>111.7</td>\n",
       "      <td>76.2</td>\n",
       "      <td>251.0</td>\n",
       "      <td>42.4</td>\n",
       "      <td>419.6</td>\n",
       "      <td>NaN</td>\n",
       "    </tr>\n",
       "    <tr>\n",
       "      <td>2011</td>\n",
       "      <td>383.8</td>\n",
       "      <td>205.8</td>\n",
       "      <td>151.6</td>\n",
       "      <td>97.4</td>\n",
       "      <td>74.9</td>\n",
       "      <td>8.8</td>\n",
       "      <td>13.2</td>\n",
       "      <td>85.2</td>\n",
       "      <td>22.5</td>\n",
       "      <td>115.4</td>\n",
       "      <td>15.5</td>\n",
       "      <td>151.7</td>\n",
       "      <td>1325.8</td>\n",
       "    </tr>\n",
       "    <tr>\n",
       "      <td>2012</td>\n",
       "      <td>412.4</td>\n",
       "      <td>134.6</td>\n",
       "      <td>123.8</td>\n",
       "      <td>140.6</td>\n",
       "      <td>35.6</td>\n",
       "      <td>124.4</td>\n",
       "      <td>56.9</td>\n",
       "      <td>0.3</td>\n",
       "      <td>5.3</td>\n",
       "      <td>19.8</td>\n",
       "      <td>178.8</td>\n",
       "      <td>62.4</td>\n",
       "      <td>1294.9</td>\n",
       "    </tr>\n",
       "    <tr>\n",
       "      <td>2013</td>\n",
       "      <td>475.9</td>\n",
       "      <td>260.8</td>\n",
       "      <td>NaN</td>\n",
       "      <td>109.4</td>\n",
       "      <td>61.4</td>\n",
       "      <td>71.3</td>\n",
       "      <td>NaN</td>\n",
       "      <td>4.8</td>\n",
       "      <td>23.4</td>\n",
       "      <td>32.6</td>\n",
       "      <td>131.4</td>\n",
       "      <td>39.6</td>\n",
       "      <td>NaN</td>\n",
       "    </tr>\n",
       "    <tr>\n",
       "      <td>2014</td>\n",
       "      <td>164.2</td>\n",
       "      <td>36.0</td>\n",
       "      <td>204.6</td>\n",
       "      <td>22.6</td>\n",
       "      <td>23.4</td>\n",
       "      <td>20.5</td>\n",
       "      <td>17.8</td>\n",
       "      <td>110.0</td>\n",
       "      <td>21.8</td>\n",
       "      <td>5.6</td>\n",
       "      <td>101.2</td>\n",
       "      <td>124.9</td>\n",
       "      <td>852.6</td>\n",
       "    </tr>\n",
       "    <tr>\n",
       "      <td>2015</td>\n",
       "      <td>304.1</td>\n",
       "      <td>271.3</td>\n",
       "      <td>137.0</td>\n",
       "      <td>150.4</td>\n",
       "      <td>225.8</td>\n",
       "      <td>31.2</td>\n",
       "      <td>11.9</td>\n",
       "      <td>29.2</td>\n",
       "      <td>83.6</td>\n",
       "      <td>62.2</td>\n",
       "      <td>89.4</td>\n",
       "      <td>57.6</td>\n",
       "      <td>1453.7</td>\n",
       "    </tr>\n",
       "    <tr>\n",
       "      <td>2016</td>\n",
       "      <td>103.1</td>\n",
       "      <td>90.2</td>\n",
       "      <td>134.1</td>\n",
       "      <td>11.2</td>\n",
       "      <td>24.1</td>\n",
       "      <td>398.3</td>\n",
       "      <td>27.0</td>\n",
       "      <td>30.4</td>\n",
       "      <td>62.6</td>\n",
       "      <td>29.0</td>\n",
       "      <td>43.7</td>\n",
       "      <td>133.4</td>\n",
       "      <td>1087.1</td>\n",
       "    </tr>\n",
       "    <tr>\n",
       "      <td>2017</td>\n",
       "      <td>178.8</td>\n",
       "      <td>30.2</td>\n",
       "      <td>491.4</td>\n",
       "      <td>9.4</td>\n",
       "      <td>40.4</td>\n",
       "      <td>80.1</td>\n",
       "      <td>36.8</td>\n",
       "      <td>7.8</td>\n",
       "      <td>4.5</td>\n",
       "      <td>180.4</td>\n",
       "      <td>153.6</td>\n",
       "      <td>157.8</td>\n",
       "      <td>1371.2</td>\n",
       "    </tr>\n",
       "    <tr>\n",
       "      <td>2018</td>\n",
       "      <td>40.2</td>\n",
       "      <td>308.7</td>\n",
       "      <td>162.9</td>\n",
       "      <td>27.4</td>\n",
       "      <td>NaN</td>\n",
       "      <td>NaN</td>\n",
       "      <td>NaN</td>\n",
       "      <td>NaN</td>\n",
       "      <td>NaN</td>\n",
       "      <td>NaN</td>\n",
       "      <td>NaN</td>\n",
       "      <td>NaN</td>\n",
       "      <td>NaN</td>\n",
       "    </tr>\n",
       "  </tbody>\n",
       "</table>\n",
       "</div>"
      ],
      "text/plain": [
       "Empty DataFrame\n",
       "Columns: []\n",
       "Index: [(IDCJAC0001, 40976, 2005, 88.5, 27.5, 10.0, 38.0, 44.9, 103.9, nan, 18.0, nan, 125.5, 113.0, nan, nan), (IDCJAC0001, 40976, 2006, 139.5, 98.9, 90.9, 45.0, 7.8, 40.4, 30.1, 47.2, 73.6, 34.5, 66.3, 66.0, 740.2), (IDCJAC0001, 40976, 2007, 74.7, 82.6, 22.7, 6.6, 34.3, 117.2, 1.4, 110.3, 46.7, 67.1, 74.1, 115.7, 753.4), (IDCJAC0001, 40976, 2008, 222.6, 166.5, 38.3, 14.0, 53.3, 156.3, 87.9, 5.3, 69.5, 89.4, 367.1, 76.9, 1347.1), (IDCJAC0001, 40976, 2009, 73.2, 139.2, 51.8, 213.4, 375.9, 108.7, 3.0, 6.9, 23.5, 61.7, 54.5, 210.6, 1322.4), (IDCJAC0001, 40976, 2010, nan, 288.5, 188.7, 44.6, 55.1, 7.2, 30.6, 111.7, 76.2, 251.0, 42.4, 419.6, nan), (IDCJAC0001, 40976, 2011, 383.8, 205.8, 151.6, 97.4, 74.9, 8.8, 13.2, 85.2, 22.5, 115.4, 15.5, 151.7, 1325.8), (IDCJAC0001, 40976, 2012, 412.4, 134.6, 123.8, 140.6, 35.6, 124.4, 56.9, 0.3, 5.3, 19.8, 178.8, 62.4, 1294.9), (IDCJAC0001, 40976, 2013, 475.9, 260.8, nan, 109.4, 61.4, 71.3, nan, 4.8, 23.4, 32.6, 131.4, 39.6, nan), (IDCJAC0001, 40976, 2014, 164.2, 36.0, 204.6, 22.6, 23.4, 20.5, 17.8, 110.0, 21.8, 5.6, 101.2, 124.9, 852.6), (IDCJAC0001, 40976, 2015, 304.1, 271.3, 137.0, 150.4, 225.8, 31.2, 11.9, 29.2, 83.6, 62.2, 89.4, 57.6, 1453.7), (IDCJAC0001, 40976, 2016, 103.1, 90.2, 134.1, 11.2, 24.1, 398.3, 27.0, 30.4, 62.6, 29.0, 43.7, 133.4, 1087.1), (IDCJAC0001, 40976, 2017, 178.8, 30.2, 491.4, 9.4, 40.4, 80.1, 36.8, 7.8, 4.5, 180.4, 153.6, 157.8, 1371.2), (IDCJAC0001, 40976, 2018, 40.2, 308.7, 162.9, 27.4, nan, nan, nan, nan, nan, nan, nan, nan, nan)]"
      ]
     },
     "execution_count": 15,
     "metadata": {},
     "output_type": "execute_result"
    }
   ],
   "source": [
    "# Import pandas for dataframes and matplotlib for plotting\n",
    "import matplotlib.pyplot as plt\n",
    "import pandas\n",
    "\n",
    "# Set variables for file and index column\n",
    "brisbane_file = 'brisbane_raindata_set.csv' #import csv dataset for brisbane from BoM\n",
    "brisbane_colname = ('Product code','Station Number','Year','Jan','Feb','Mar','Apr','May','Jun','Jul','Aug','Sep','Oct','Nov','Dec','Annual') \n",
    "\n",
    "# Read the dataset and show in detailed years, mothns and mm rainfall per month\n",
    "brisbane_data = pandas.read_csv(brisbane_file, index_col= brisbane_colname)\n",
    "brisbane_data"
   ]
  },
  {
   "cell_type": "markdown",
   "metadata": {},
   "source": [
    "##### Brisbane precipitations from Jan to Dec 2017"
   ]
  },
  {
   "cell_type": "code",
   "execution_count": 16,
   "metadata": {},
   "outputs": [
    {
     "data": {
      "text/plain": [
       "(178.8, 30.2, 491.4, 9.4, 40.4, 80.1, 36.8, 7.8, 4.5, 180.4, 153.6, 157.8)"
      ]
     },
     "execution_count": 16,
     "metadata": {},
     "output_type": "execute_result"
    }
   ],
   "source": [
    "#rainfall data for Brisbane in 2017 from January to December in ascending order\n",
    "#eliminate useless comlums and rows\n",
    "\n",
    "brisbane_data_cln = brisbane_data.index.values[12]\n",
    "brisbane_data_cln = brisbane_data_cln[3:15] \n",
    "brisbane_data_cln"
   ]
  },
  {
   "cell_type": "markdown",
   "metadata": {},
   "source": [
    "#### Visualization with line chart combining 3 cities"
   ]
  },
  {
   "cell_type": "markdown",
   "metadata": {},
   "source": [
    "Getting data from the list from the previous step and output it as a chart"
   ]
  },
  {
   "cell_type": "code",
   "execution_count": 17,
   "metadata": {},
   "outputs": [
    {
     "data": {
      "text/plain": [
       "Text(0, 0.5, 'Average rainfall (mm)')"
      ]
     },
     "execution_count": 17,
     "metadata": {},
     "output_type": "execute_result"
    },
    {
     "data": {
      "image/png": "[encoded data removed]",
      "text/plain": [
       "<Figure size 432x288 with 1 Axes>"
      ]
     },
     "metadata": {
      "needs_background": "light"
     },
     "output_type": "display_data"
    }
   ],
   "source": [
    "#output a visualized rainfall graph combined with perth and mandurah\n",
    "\n",
    "import numpy as np\n",
    "\n",
    "# Add labels and set colours for perth and mandurah\n",
    "plt.plot(darwin_data_cln,'g-',label='Darwin')\n",
    "plt.plot(sydney_data_cln,'r-',label='Sydney')\n",
    "plt.plot(brisbane_data_cln,'y-',label='Brisbane')\n",
    "\n",
    "#define x and y axis and labels \n",
    "\n",
    "months = ('Jan','Feb','Mar','Apr','May','Jun','Jul','Aug','Sep','Oct','Nov','Dec')\n",
    "x = np.array([0,1,2,3,4,5,6,7,8,9,10,11])\n",
    "plt.xticks(x, months)\n",
    "plt.title(\"Cities Rainfall Comparsion\")\n",
    "plt.legend(loc='upper right')\n",
    "plt.xlabel('Months')\n",
    "plt.ylabel('Average rainfall (mm)')"
   ]
  },
  {
   "cell_type": "markdown",
   "metadata": {},
   "source": [
    "#### Based on the finding from the first part, we are going to combine the conclusion and the bar chart from part and make further conclusion for the user to make market decisions."
   ]
  },
  {
   "cell_type": "markdown",
   "metadata": {},
   "source": [
    "According to the line chart, different locations have different precipitations among 12 months. Darwin has the highest precipitation in February, while Sydney in June and Brisbane in March.\n",
    "The company can start launching the new umbrella in December because it comes from the bottom to the peak within 3 months, from 162mm to 679mm. Which shows that the people will need an umbrella while they are outside, once they forget to bring it, it'll have a high chance for them to buy the umbrella because its the most precipitation months for Darwin, the consumer will think that it is worth to buy it.\n",
    "\n",
    "After selling the new umbrella in Darwin, if the response is good, the company can start reducing umbrellas quantities on shipping to Darwin, because the precipitation is dropping on a straight line from 679mm to 0 mm within 3 months. The company can start shipping the new umbrella to Brisbane from February to April and Sydney from Mid of May to September, which can maximize the company's sales volume and increase company's population within a short period.\n"
   ]
  },
  {
   "cell_type": "markdown",
   "metadata": {},
   "source": [
    "# Quick Example - Best newspaper/magazine in USA"
   ]
  },
  {
   "cell_type": "code",
   "execution_count": null,
   "metadata": {},
   "outputs": [],
   "source": [
    "from bs4 import BeautifulSoup"
   ]
  },
  {
   "cell_type": "code",
   "execution_count": null,
   "metadata": {},
   "outputs": [],
   "source": [
    "#import library\n",
    "import urllib.request\n",
    "\n",
    "#define get html source coding\n",
    "def get_HTML(url):\n",
    "    response = urllib.request.urlopen(url)\n",
    "    html = response.read()\n",
    "    return html"
   ]
  },
  {
   "cell_type": "markdown",
   "metadata": {},
   "source": [
    "### Newspaper's rank"
   ]
  },
  {
   "cell_type": "code",
   "execution_count": 33,
   "metadata": {},
   "outputs": [
    {
     "data": {
      "text/plain": [
       "['1.', '2.', '3.', '4.', '5.', '6.', '7.', '8.', '9.', '10.']"
      ]
     },
     "execution_count": 33,
     "metadata": {},
     "output_type": "execute_result"
    }
   ],
   "source": [
    "#taking out useful eliminate from a website by using inspect elements\n",
    "newspaper_ranking = []\n",
    "\n",
    "#taking out ranking from the website\n",
    "states_bom_HTML = get_HTML(\"https://www.infoplease.com/arts-entertainment/newspapers-and-magazines/top-100-newspapers-united-states\")\n",
    "soup = BeautifulSoup(states_bom_HTML, \"lxml\")\n",
    "span_element = soup.find(text=\"Top 100 Newspapers in the United States\")\n",
    "h1_element = span_element.parent\n",
    "table_element = h1_element.findNext('table')\n",
    "for tr_element in table_element.findAll('tr'):\n",
    "    td_element = tr_element.find('td')\n",
    "    if td_element != None:\n",
    "        newspaper_ranking.append(td_element.text)\n",
    "\n",
    "# eliminate useless data and print out \n",
    "newspaper_ranking = newspaper_ranking[0:10]\n",
    "newspaper_ranking"
   ]
  },
  {
   "cell_type": "markdown",
   "metadata": {},
   "source": [
    "### Newspaper's company"
   ]
  },
  {
   "cell_type": "code",
   "execution_count": 34,
   "metadata": {},
   "outputs": [
    {
     "data": {
      "text/plain": [
       "['USA Today (Arlington, Va.)',\n",
       " 'Wall Street Journal (New York, N.Y.)',\n",
       " 'Times (New York, N.Y.)',\n",
       " 'Times (Los Angeles)',\n",
       " 'Post (New York, N.Y.)',\n",
       " 'Daily News (New York, N.Y.)',\n",
       " 'Post (Washington, DC)',\n",
       " 'Tribune (Chicago)',\n",
       " 'Chronicle (Houston)',\n",
       " 'Arizona Republic (Phoenix)']"
      ]
     },
     "execution_count": 34,
     "metadata": {},
     "output_type": "execute_result"
    }
   ],
   "source": [
    "#taking out useful eliminate from a website by using inspect elements\n",
    "company = []\n",
    "\n",
    "##taking out top 10 ranking newspaper and magazine from the website\n",
    "states_bom_HTML = get_HTML(\"https://www.infoplease.com/arts-entertainment/newspapers-and-magazines/top-100-newspapers-united-states\")\n",
    "soup = BeautifulSoup(states_bom_HTML, \"lxml\")\n",
    "span_element = soup.find(text=\"Top 100 Newspapers in the United States\")\n",
    "h1_element = span_element.parent\n",
    "table_element = h1_element.findNext('table')\n",
    "for tr_element in table_element.findAll('tr'):\n",
    "    td_element = tr_element.find('td',attrs={'align':'left'})\n",
    "    if td_element != None:\n",
    "        company.append(td_element.text)\n",
    "\n",
    "# eliminate useless data and print out \n",
    "company = company[0:10]\n",
    "company"
   ]
  },
  {
   "cell_type": "markdown",
   "metadata": {},
   "source": [
    "### Newspaper's Circulation"
   ]
  },
  {
   "cell_type": "code",
   "execution_count": 35,
   "metadata": {},
   "outputs": [
    {
     "data": {
      "text/plain": [
       "('2278022',\n",
       " '2062312',\n",
       " '1120420',\n",
       " '815723',\n",
       " '724748',\n",
       " '718174',\n",
       " '699130',\n",
       " '566827',\n",
       " '503114',\n",
       " '433731')"
      ]
     },
     "execution_count": 35,
     "metadata": {},
     "output_type": "execute_result"
    }
   ],
   "source": [
    "#taking out useful eliminate from a website by using inspect elements\n",
    "Circulation = []\n",
    "\n",
    "#taking out circulation for the top 10 newspapers and magazines\n",
    "states_bom_HTML = get_HTML(\"https://www.infoplease.com/arts-entertainment/newspapers-and-magazines/top-100-newspapers-united-states\")\n",
    "soup = BeautifulSoup(states_bom_HTML, \"lxml\")\n",
    "span_element = soup.find(text=\"Top 100 Newspapers in the United States\")\n",
    "h1_element = span_element.parent\n",
    "table_element = h1_element.findNext('table')\n",
    "for tr_element in table_element.findAll('tr'):\n",
    "    td_element = tr_element.find('td',attrs={'align':'right'})\n",
    "    if td_element != None:\n",
    "        Circulation.append(td_element.text)\n",
    "\n",
    "# eliminate useless data and print out \n",
    "Circulation = Circulation[0].replace(\",\", \"\"),Circulation[1].replace(\",\", \"\"),Circulation[2].replace(\",\", \"\"),Circulation[3].replace(\",\", \"\"),Circulation[4].replace(\",\", \"\"),Circulation[5].replace(\",\", \"\"),Circulation[6].replace(\",\", \"\"),Circulation[7].replace(\",\", \"\"),Circulation[8].replace(\",\", \"\"),Circulation[9].replace(\",\", \"\")\n",
    "Circulation"
   ]
  },
  {
   "cell_type": "markdown",
   "metadata": {},
   "source": [
    "### Combine all useful information"
   ]
  },
  {
   "cell_type": "code",
   "execution_count": 36,
   "metadata": {},
   "outputs": [
    {
     "name": "stdout",
     "output_type": "stream",
     "text": [
      "Rank: 1.\n",
      "Newspaper: USA Today (Arlington, Va.)\n",
      "Circulation: 2278022\n",
      "\n",
      "\n",
      "Rank: 2.\n",
      "Newspaper: Wall Street Journal (New York, N.Y.)\n",
      "Circulation: 2062312\n",
      "\n",
      "\n",
      "Rank: 3.\n",
      "Newspaper: Times (New York, N.Y.)\n",
      "Circulation: 1120420\n",
      "\n",
      "\n",
      "Rank: 4.\n",
      "Newspaper: Times (Los Angeles)\n",
      "Circulation: 815723\n",
      "\n",
      "\n",
      "Rank: 5.\n",
      "Newspaper: Post (New York, N.Y.)\n",
      "Circulation: 724748\n",
      "\n",
      "\n",
      "Rank: 6.\n",
      "Newspaper: Daily News (New York, N.Y.)\n",
      "Circulation: 718174\n",
      "\n",
      "\n",
      "Rank: 7.\n",
      "Newspaper: Post (Washington, DC)\n",
      "Circulation: 699130\n",
      "\n",
      "\n",
      "Rank: 8.\n",
      "Newspaper: Tribune (Chicago)\n",
      "Circulation: 566827\n",
      "\n",
      "\n",
      "Rank: 9.\n",
      "Newspaper: Chronicle (Houston)\n",
      "Circulation: 503114\n",
      "\n",
      "\n",
      "Rank: 10.\n",
      "Newspaper: Arizona Republic (Phoenix)\n",
      "Circulation: 433731\n",
      "\n",
      "\n"
     ]
    }
   ],
   "source": [
    "# combine the data from the above and combine it into useful readable data\n",
    "# rank + newspaper and magazines + circulation\n",
    "\n",
    "for i in range(0, len(newspaper_ranking)):\n",
    "    print(\"Rank: \"+newspaper_ranking[i])\n",
    "    print(\"Newspaper: \"+ company[i])\n",
    "    print(\"Circulation: \"+ Circulation[i])    \n",
    "    print('\\n')"
   ]
  },
  {
   "cell_type": "markdown",
   "metadata": {},
   "source": [
    "### Bar chart of circulation of different companies"
   ]
  },
  {
   "cell_type": "code",
   "execution_count": 37,
   "metadata": {},
   "outputs": [
    {
     "data": {
      "text/plain": [
       "Text(0.5, 1.0, 'Circulation of different company')"
      ]
     },
     "execution_count": 37,
     "metadata": {},
     "output_type": "execute_result"
    },
    {
     "data": {
      "image/png": "[encoded data removed]",
      "text/plain": [
       "<Figure size 432x288 with 1 Axes>"
      ]
     },
     "metadata": {
      "needs_background": "light"
     },
     "output_type": "display_data"
    }
   ],
   "source": [
    "#Import the plotting library\n",
    "import matplotlib.pyplot as plt\n",
    "import numpy as np\n",
    "\n",
    "#a for loop in order to turn all the str from the list into INT and make sure its recognizable for plt\n",
    "Circulation_new = []\n",
    "for c in Circulation:\n",
    "    Circulation_new.append(int(c))\n",
    "\n",
    "#Setup the data with different colors and names\n",
    "y = [Circulation_new[0],Circulation_new[1], Circulation_new[2],Circulation_new[3],Circulation_new[4],Circulation_new[5],Circulation_new[6],Circulation_new[7],Circulation_new[8],Circulation_new[9]]\n",
    "x = [company[0],company[1], company[2],company[3],company[4], company[5],company[6],company[7],company[8],company[9]]\n",
    "my_colors = 'rgbkymc'\n",
    "\n",
    "\n",
    "#Plot the data and rotate the x axis name by 90 degrees\n",
    "plt.bar(x,y, color=my_colors)\n",
    "plt.xticks(rotation=90)\n",
    "\n",
    "#Lable the chart\n",
    "plt.ylabel('Circulation')\n",
    "plt.xlabel('Newspaper')\n",
    "plt.title('Circulation of different company')"
   ]
  }
 ],
 "metadata": {
  "kernelspec": {
   "display_name": "Python 3",
   "language": "python",
   "name": "python3"
  },
  "language_info": {
   "codemirror_mode": {
    "name": "ipython",
    "version": 3
   },
   "file_extension": ".py",
   "mimetype": "text/x-python",
   "name": "python",
   "nbconvert_exporter": "python",
   "pygments_lexer": "ipython3",
   "version": "3.7.3"
  }
 },
 "nbformat": 4,
 "nbformat_minor": 2
}
