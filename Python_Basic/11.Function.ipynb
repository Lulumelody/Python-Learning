{
 "cells": [
  {
   "cell_type": "markdown",
   "metadata": {},
   "source": [
    "![title](iREd_logo.png)"
   ]
  },
  {
   "cell_type": "markdown",
   "metadata": {},
   "source": [
    "# 函式 Function"
   ]
  },
  {
   "cell_type": "markdown",
   "metadata": {},
   "source": [
    "一個`函式`是一組只有當被呼叫才會執行的行碼，而且能被執行多於一次。可以在函式輸入數值，然後函式會輸出返回值。\n",
    "\n",
    "函式能最大限度地代碼重用和減少冗餘。在 Python，我們只要打一次代碼就能在不同地方把它用上。因此除錯工作也能減少。\n",
    "\n",
    "A `function` is a group of statements that only runs when it is called and can be run more than once in a programme. Parameters are specified as function inputs, and functions can compute a result value.\n",
    "\n",
    "By using functions, we can maximise code reuse and minimise redundancy. In Python, we can code an operation once and use it in many situations. Maintenance effort can, therefore, be reduced."
   ]
  },
  {
   "cell_type": "markdown",
   "metadata": {},
   "source": [
    "`def`敘述能創建一個函式物件並給它一個名字。當`def`被執行，只要在函式括號中輸入物件就能呼叫它。\n",
    "\n",
    "The `def` statement creates a function object and assigns it to a name. Once the `def` is run, the function can be called by passing objects in parentheses"
   ]
  },
  {
   "cell_type": "code",
   "execution_count": null,
   "metadata": {},
   "outputs": [],
   "source": [
    "def addition(a, b):\n",
    "    print('The first input is', a)\n",
    "    print('The second input is', b)\n",
    "    print('Result after addition is', a+b)\n",
    "    \n",
    "\n",
    "addition(2, 3)"
   ]
  },
  {
   "cell_type": "markdown",
   "metadata": {},
   "source": [
    " `return`敘述能在函式中任何地方出現。`return`的作用是結束函式並把結果返回給用家。如果函式沒有 `return`，所有代碼執行時函式仍然存在。\n",
    "\n",
    "A `return` statement can appear anywhere in a function. The purpose of having `return` is to end the function call and sends the result back to the caller. If the `return` statement is not present in the function, the function exits when the whole block of code is run"
   ]
  },
  {
   "cell_type": "code",
   "execution_count": null,
   "metadata": {},
   "outputs": [],
   "source": [
    "def addition(a, b):\n",
    "    print('The first input is', a)\n",
    "    print('The second input is', b)\n",
    "    a = a + b\n",
    "    return a\n",
    "\n",
    "x = addition(2, 3)\n",
    "print('Result after addition is', x)"
   ]
  },
  {
   "cell_type": "markdown",
   "metadata": {},
   "source": [
    "**任務 Task** \n",
    "\n",
    "運用 `return`敘述，編寫程式列印清單中的雙數\n",
    "\n",
    "清單數字為 1 至 10\n",
    "\n",
    "Write a Python program (With `return` statement) to print the even numbers from a given list.\n",
    "\n",
    "The list includes numbers from 1 to 10"
   ]
  },
  {
   "cell_type": "code",
   "execution_count": null,
   "metadata": {},
   "outputs": [],
   "source": [
    "def even_num(list1):\n",
    "    e_num = []\n",
    "    for n in list1:\n",
    "        if n % 2 == 0:\n",
    "            e_num.append(n)\n",
    "    return e_num\n",
    "\n",
    "print(even_num([1, 2, 3, 4, 5, 6, 7, 8, 9, 10]))"
   ]
  },
  {
   "cell_type": "markdown",
   "metadata": {},
   "source": [
    "編寫沒有 `return`敘述的程式，列印清單中的雙數。\n",
    "\n",
    "Write a Python program (Without `return` statement) to print the even numbers from a given list."
   ]
  },
  {
   "cell_type": "code",
   "execution_count": null,
   "metadata": {},
   "outputs": [],
   "source": [
    "def even_num(list1):\n",
    "    e_num = []\n",
    "    for n in list1:\n",
    "        if n % 2 == 0:\n",
    "            e_num.append(n)\n",
    "    print(e_num)\n",
    "\n",
    "even_num([1, 2, 3, 4, 5, 6, 7, 8, 9, 10])"
   ]
  },
  {
   "cell_type": "markdown",
   "metadata": {},
   "source": [
    "## 匿名函式 Lambda function"
   ]
  },
  {
   "cell_type": "markdown",
   "metadata": {},
   "source": [
    "一個 `lambda` 函式名為匿名的原因是它沒有`def`。它只能用表達式返回數值。\n",
    "\n",
    "A `lambda` function is called annoymous because it is not declared by using the `def` keyword. It can only return one value in form of an expression."
   ]
  },
  {
   "cell_type": "code",
   "execution_count": null,
   "metadata": {},
   "outputs": [],
   "source": [
    "add = lambda a, b: a + b\n",
    "\n",
    "print('The result is', add(2, 3))"
   ]
  },
  {
   "cell_type": "markdown",
   "metadata": {},
   "source": [
    "## 任務 Task\n",
    "\n",
    "用 return 敘述，設計一個函式以查找某數字是否在某範圍內\n",
    "\n",
    "Define a function to check if a number is within a given range **(Use return statement)**"
   ]
  },
  {
   "cell_type": "code",
   "execution_count": null,
   "metadata": {},
   "outputs": [],
   "source": [
    "# Write your code here\n"
   ]
  },
  {
   "cell_type": "markdown",
   "metadata": {},
   "source": [
    "## 全域變數 Global variable"
   ]
  },
  {
   "cell_type": "markdown",
   "metadata": {},
   "source": [
    "`全域變數`在函式外或全域範圍被創建。它能在函式內外被呼叫。\n",
    "\n",
    "A `global variable` is a declared outside of a function or in global scope. It can be accessed inside and outside of a funtion"
   ]
  },
  {
   "cell_type": "code",
   "execution_count": null,
   "metadata": {},
   "outputs": [],
   "source": [
    "x = 5\n",
    "\n",
    "def change():   \n",
    "    global x\n",
    "    \n",
    "    x = 3\n",
    "    \n",
    "    print('the value of x is', x)\n",
    "    \n",
    "print('the value of x before running change() is ', x)\n",
    "\n",
    "change()\n",
    "\n",
    "print('the value of x after running change() is', x)\n"
   ]
  },
  {
   "cell_type": "markdown",
   "metadata": {},
   "source": [
    "## 局部變數 Local variable"
   ]
  },
  {
   "cell_type": "markdown",
   "metadata": {},
   "source": [
    "`局部變數`在函式內被創建。只有能局部範圍中被呼叫。\n",
    "\n",
    "A `local variable` is declared within a function. It can only be accessed within the local scope"
   ]
  },
  {
   "cell_type": "code",
   "execution_count": null,
   "metadata": {},
   "outputs": [],
   "source": [
    "def fun():\n",
    "    y = 5\n",
    "    print('The value of x is', y)\n",
    "    \n",
    "fun()\n",
    "print(y)"
   ]
  },
  {
   "cell_type": "markdown",
   "metadata": {},
   "source": [
    "當執行這段代碼時會出現錯誤，因為我們嘗試在全域範圍列印`y`，但`y`是一個局部變數\n",
    "\n",
    "There is an error when we run the code above, the reason is that we try to print the value of `y` in a global scope while `y` is a local variable"
   ]
  },
  {
   "cell_type": "markdown",
   "metadata": {},
   "source": [
    "**例子 Example**"
   ]
  },
  {
   "cell_type": "code",
   "execution_count": null,
   "metadata": {},
   "outputs": [],
   "source": [
    "def fun():\n",
    "    num = 10\n",
    "    for i in range(num):\n",
    "        print('*', end='')\n",
    "        \n",
    "num = 30\n",
    "fun()\n",
    "print()\n",
    "\n",
    "for i in range(num):\n",
    "    print('*', end='')"
   ]
  },
  {
   "cell_type": "markdown",
   "metadata": {},
   "source": [
    "## Python 預建函式例子 \n",
    "## Example of Python Built-in functions"
   ]
  },
  {
   "cell_type": "markdown",
   "metadata": {},
   "source": [
    "在 Python 直譯器中的函式名為`預建函式`。我們有遇到過幾個。下列例子也許能對你有幫助\n",
    "\n",
    "Functions that comes with Python interpreter are called `built-in functions`. We have came across a couple of them before. In the following cell, more examples are given that might be useful for you"
   ]
  },
  {
   "cell_type": "code",
   "execution_count": null,
   "metadata": {},
   "outputs": [],
   "source": [
    "#built-in functions related to string\n",
    "\n",
    "x = 'hello world! have a great day.'\n",
    "\n",
    "print('The original sentence:', x)\n",
    "print('Capitalize the first character:', x.capitalize())\n",
    "print('Capitalize the first character of each word:', x.title())\n",
    "print('Capitalize all words:', x.upper())\n",
    "print('Convert all letters to lower case:', x.lower())\n",
    "print('Check if all letters are upper case:', x.isupper())\n",
    "print('Check if all letters are lower case:', x.islower())\n",
    "\n"
   ]
  },
  {
   "cell_type": "markdown",
   "metadata": {},
   "source": [
    "## 任務 Task\n",
    "\n",
    "編寫一個能用距離和時間計算速度的函式\n",
    "\n",
    "Write a function to calculate the speed by distance and time"
   ]
  },
  {
   "cell_type": "code",
   "execution_count": null,
   "metadata": {},
   "outputs": [],
   "source": [
    "# Write your code here\n",
    "distance = 6\n",
    "time = 10\n",
    "\n",
    "def speed(distance, time):\n",
    "    return distance/time\n",
    "\n",
    "\n",
    "result = speed(distance, time)\n",
    "print('The speed is %.2fm/s' %( result))"
   ]
  },
  {
   "cell_type": "code",
   "execution_count": null,
   "metadata": {},
   "outputs": [],
   "source": []
  }
 ],
 "metadata": {
  "kernelspec": {
   "display_name": "Python 3",
   "language": "python",
   "name": "python3"
  },
  "language_info": {
   "codemirror_mode": {
    "name": "ipython",
    "version": 3
   },
   "file_extension": ".py",
   "mimetype": "text/x-python",
   "name": "python",
   "nbconvert_exporter": "python",
   "pygments_lexer": "ipython3",
   "version": "3.7.3"
  }
 },
 "nbformat": 4,
 "nbformat_minor": 4
}