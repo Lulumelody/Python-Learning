{
 "cells": [
  {
   "cell_type": "markdown",
   "metadata": {},
   "source": [
    "![title](iREd_logo.png)"
   ]
  },
  {
   "cell_type": "markdown",
   "metadata": {},
   "source": [
    "# 任務: Task:\n",
    "\n",
    "## 這個任務包括把目錄中所有圖片重新命名，並簡單地改良它們。\n",
    "## This task includes renaming all photos in a directory as well as a simple modification of the images."
   ]
  },
  {
   "cell_type": "markdown",
   "metadata": {},
   "source": [
    "有一個壓縮檔案名為 'images.zip'，請用以下命令解壓檔案至資料夾\n",
    "\n",
    "There is a zip files called 'images.zip', please unzip the images to a folder with the following command"
   ]
  },
  {
   "cell_type": "code",
   "execution_count": null,
   "metadata": {},
   "outputs": [],
   "source": [
    "!tar -xvf images.zip "
   ]
  },
  {
   "cell_type": "markdown",
   "metadata": {},
   "source": [
    "## 瀏覽資料夾並把所有圖片重新命名 Browse the folder and rename all photos\n",
    "請完成以下編程以命名圖片。你可用 `os.rename(src_path, dst_path)` 以命名圖片\n",
    "\n",
    "Please complete the following code to rename the photos.\n",
    "You can use please use `os.rename(src_path, dst_path)`to rename the photo"
   ]
  },
  {
   "cell_type": "code",
   "execution_count": null,
   "metadata": {
    "scrolled": false
   },
   "outputs": [],
   "source": [
    "import os\n",
    "import random\n",
    "import string\n",
    "\n",
    "image_generator =  os.walk('images')\n",
    "# print(image_generator)\n",
    "idx = 0;\n",
    "for path, dir_list, file_list in image_generator:\n",
    "    print(path, dir_list, file_list)\n",
    "    for file in file_list:\n",
    "        if file.endswith(\".jpg\"):\n",
    "#             print(file)\n",
    "            src_path = os.path.join(path, file)\n",
    "            dst_path = os.path.join(path, \"%06d\"%(idx) +  '.jpg') \n",
    "#             print(src_path, dst_path)         \n",
    "            # 請在此輸入一句代碼 please write one-line code here\n",
    "            os.rename(src_path, dst_path)\n",
    "            idx+=1\n"
   ]
  },
  {
   "cell_type": "markdown",
   "metadata": {},
   "source": [
    "## 我們會用 Pillow 開啟圖片並旋轉圖片。請以下方命令安裝 Pillow。\n",
    "\n",
    "## We will Using Pillow to open and rotate the image. Use the following command to install the Pillow"
   ]
  },
  {
   "cell_type": "code",
   "execution_count": null,
   "metadata": {},
   "outputs": [],
   "source": [
    "!pip install pillow"
   ]
  },
  {
   "cell_type": "markdown",
   "metadata": {},
   "source": [
    "開啟一張圖片 Open a image"
   ]
  },
  {
   "cell_type": "code",
   "execution_count": null,
   "metadata": {},
   "outputs": [],
   "source": [
    "#輸入所需函式庫 Import required library\n",
    "from PIL import Image, ImageFilter\n",
    "from matplotlib.pyplot import imshow\n",
    "import numpy as np\n",
    "\n",
    "#開啟圖片 Open Image\n",
    "im = Image.open(\"./images/cats/000000.jpg\")\n",
    "imshow(np.asarray(im))"
   ]
  },
  {
   "cell_type": "code",
   "execution_count": null,
   "metadata": {},
   "outputs": [],
   "source": [
    "#旋轉並顯示圖片 Image rotate & show\n",
    "im2 = im.rotate(15)\n",
    "imshow(np.asarray(im2))"
   ]
  },
  {
   "cell_type": "markdown",
   "metadata": {},
   "source": [
    "以下是幾個可用於圖片的過濾器: There are some filters can be applied on the images:\n",
    "- BLUR\n",
    "- CONTOUR\n",
    "- DETAIL\n",
    "- EDGE_ENHANCE\n",
    "- EDGE_ENHANCE_MORE\n",
    "- EMBOSS\n",
    "- FIND_EDGES\n",
    "- SHARPEN\n",
    "- SMOOTH\n",
    "- SMOOTH_MORE"
   ]
  },
  {
   "cell_type": "code",
   "execution_count": null,
   "metadata": {
    "scrolled": true
   },
   "outputs": [],
   "source": [
    "im2 = im.filter(ImageFilter.SHARPEN)\n",
    "imshow(np.asarray(im2))"
   ]
  },
  {
   "cell_type": "code",
   "execution_count": null,
   "metadata": {},
   "outputs": [],
   "source": [
    "#調整圖片大小 Resize the image\n",
    "im2 = im.resize((300,300),)\n",
    "imshow(np.asarray(im2))"
   ]
  },
  {
   "cell_type": "code",
   "execution_count": null,
   "metadata": {},
   "outputs": [],
   "source": [
    "#把圖片儲存為 jpeg 格式 save the images in jpeg format\n",
    "im.save(\"cat0001_rotate.jpg\",'JPEG')"
   ]
  },
  {
   "cell_type": "markdown",
   "metadata": {},
   "source": [
    "# 任務 Task\n",
    "### 使用 Pillow 及 os.walk 旋轉 10 度並在所有圖片中加入 \"BLUR\" 過濾器。然後把圖片儲存到資料夾 \"output\"，圖片名字前標應加上 \"modified_\" 。例如 `modified_000001.jpg` \n",
    "\n",
    "### With the use of the Pillow and  os.walk , please rotate 10 degree and  add filter \"BLUR\" to all the images in image folder. Then save the image to the folder \"output\" and the name should be added with a prefix \"modified_\". e.g. `modified_000001.jpg` "
   ]
  },
  {
   "cell_type": "code",
   "execution_count": null,
   "metadata": {},
   "outputs": [],
   "source": [
    "import os\n",
    "#如 \"output\" 資料夾不存在，便創建一個 create \"output\" folder if it is not exist\n",
    "if not os.path.exists('output'):\n",
    "    os.makedirs('output')"
   ]
  },
  {
   "cell_type": "code",
   "execution_count": null,
   "metadata": {},
   "outputs": [],
   "source": []
  },
  {
   "cell_type": "code",
   "execution_count": null,
   "metadata": {},
   "outputs": [],
   "source": []
  },
  {
   "cell_type": "code",
   "execution_count": null,
   "metadata": {},
   "outputs": [],
   "source": []
  }
 ],
 "metadata": {
  "kernelspec": {
   "display_name": "Python 3",
   "language": "python",
   "name": "python3"
  },
  "language_info": {
   "codemirror_mode": {
    "name": "ipython",
    "version": 3
   },
   "file_extension": ".py",
   "mimetype": "text/x-python",
   "name": "python",
   "nbconvert_exporter": "python",
   "pygments_lexer": "ipython3",
   "version": "3.7.1"
  }
 },
 "nbformat": 4,
 "nbformat_minor": 2
}